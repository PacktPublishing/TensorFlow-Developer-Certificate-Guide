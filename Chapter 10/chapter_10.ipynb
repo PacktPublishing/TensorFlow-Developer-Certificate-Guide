{
  "cells": [
    {
      "cell_type": "code",
      "source": [
        "import requests\n",
        "from bs4 import BeautifulSoup\n",
        "import re\n",
        "from tensorflow.keras.preprocessing.text import Tokenizer"
      ],
      "metadata": {
        "id": "ovGNwZS_ZiZZ"
      },
      "id": "ovGNwZS_ZiZZ",
      "execution_count": null,
      "outputs": []
    },
    {
      "cell_type": "code",
      "source": [
        "\n",
        "# Define the URL of the page\n",
        "url = \"https://en.wikipedia.org/wiki/Machine_learning\"\n",
        "\n",
        "# Send a GET request to the webpage\n",
        "response = requests.get(url)\n",
        "\n",
        "# Parse the HTML content of the page with BeautifulSoup\n",
        "soup = BeautifulSoup(response.content, 'html.parser')\n",
        "\n",
        "# Extract the text from all paragraph tags on the page\n",
        "passage = \" \".join([p.text for p in soup.find_all('p')])\n",
        "\n",
        "# Now, let's perform the preprocessing steps:\n",
        "\n",
        "# Define a simple list of stopwords\n",
        "stopwords = [\"i\", \"me\", \"my\", \"myself\", \"we\", \"our\", \"ours\", \"ourselves\", \"you\", \"your\", \"yours\",\n",
        "             \"yourself\", \"yourselves\", \"he\", \"him\", \"his\", \"himself\", \"she\", \"her\", \"hers\", \"herself\",\n",
        "             \"it\", \"its\", \"itself\", \"they\", \"them\", \"their\", \"theirs\", \"themselves\", \"what\", \"which\",\n",
        "             \"who\", \"whom\", \"this\", \"that\", \"these\", \"those\", \"am\", \"is\", \"are\", \"was\", \"were\", \"be\",\n",
        "             \"been\", \"being\", \"have\", \"has\", \"had\", \"having\", \"do\", \"does\", \"did\", \"doing\", \"a\", \"an\",\n",
        "             \"the\", \"and\", \"but\", \"if\", \"or\", \"because\", \"as\", \"until\", \"while\", \"of\", \"at\", \"by\", \"for\",\n",
        "             \"with\", \"about\", \"against\", \"between\", \"into\", \"through\", \"during\", \"before\", \"after\", \"above\",\n",
        "             \"below\", \"to\", \"from\", \"up\", \"down\", \"in\", \"out\", \"on\", \"off\", \"over\", \"under\", \"again\",\n",
        "             \"further\", \"then\", \"once\", \"here\", \"there\", \"when\", \"where\", \"why\", \"how\", \"all\", \"any\",\n",
        "             \"both\", \"each\", \"few\", \"more\", \"most\", \"other\", \"some\", \"such\", \"no\", \"nor\", \"not\", \"only\",\n",
        "             \"own\", \"same\", \"so\", \"than\", \"too\", \"very\", \"s\", \"t\", \"can\", \"will\", \"just\", \"don\", \"should\",\n",
        "             \"now\"]\n",
        "\n",
        "# Convert to lowercase\n",
        "passage = passage.lower()\n",
        "\n",
        "# Remove HTML tags using regex\n",
        "passage = re.sub('<.*?>', '', passage)\n",
        "\n",
        "# Remove special characters\n",
        "passage = re.sub('[^a-z\\s]', '', passage)\n",
        "\n",
        "# Remove stopwords\n",
        "passage = ' '.join(word for word in passage.split() if word not in stopwords)\n",
        "\n",
        "# print only first 100 characters for brevity\n",
        "print(passage[:100])\n",
        "\n",
        "# Tokenize and convert to sequence\n",
        "tokenizer = Tokenizer()\n",
        "tokenizer.fit_on_texts([passage])\n",
        "sequence = tokenizer.texts_to_sequences([passage])\n",
        "\n",
        "print(sequence[0][:10])\n"
      ],
      "metadata": {
        "colab": {
          "base_uri": "https://localhost:8080/"
        },
        "id": "3At8AaylJ4PO",
        "outputId": "38998ff7-54d3-4a22-b97f-49e1cb5eb12c"
      },
      "id": "3At8AaylJ4PO",
      "execution_count": null,
      "outputs": [
        {
          "output_type": "stream",
          "name": "stdout",
          "text": [
            "machine learning ml umbrella term solving problems development algorithms human programmers would co\n",
            "[2, 1, 176, 666, 113, 667, 27, 668, 5, 95]\n"
          ]
        }
      ]
    },
    {
      "cell_type": "code",
      "source": [
        "# print only first 500 characters for brevity\n",
        "print(passage[:500])"
      ],
      "metadata": {
        "colab": {
          "base_uri": "https://localhost:8080/"
        },
        "id": "vlcLSrpFmeCS",
        "outputId": "bd742317-a922-4e42-ef29-60ea3c4ada46"
      },
      "id": "vlcLSrpFmeCS",
      "execution_count": null,
      "outputs": [
        {
          "output_type": "stream",
          "name": "stdout",
          "text": [
            "machine learning ml umbrella term solving problems development algorithms human programmers would costprohibitive instead problems solved helping machines discover algorithms without needing explicitly told humandeveloped algorithms recently generative artificial neural networks able surpass results many previous approaches machine learning approaches applied large language models computer vision speech recognition email filtering agriculture medicine costly develop algorithms perform needed tas\n"
          ]
        }
      ]
    },
    {
      "cell_type": "code",
      "source": [
        "text = \"Machine learning is fascinating. It is a field full of challenges!\"\n",
        "print(text)\n",
        "\n",
        "# Define the tokenizer and fit it on the text\n",
        "tokenizer = Tokenizer()\n",
        "tokenizer.fit_on_texts([text])\n",
        "\n",
        "# Print out the word index to see how words are tokenized\n",
        "print(tokenizer.word_index)\n"
      ],
      "metadata": {
        "colab": {
          "base_uri": "https://localhost:8080/"
        },
        "id": "wvTZUUKwtJSC",
        "outputId": "80de2b6f-84de-4133-b292-aabb7af69da2"
      },
      "id": "wvTZUUKwtJSC",
      "execution_count": null,
      "outputs": [
        {
          "output_type": "stream",
          "name": "stdout",
          "text": [
            "Machine learning is fascinating. It is a field full of challenges!\n",
            "{'is': 1, 'machine': 2, 'learning': 3, 'fascinating': 4, 'it': 5, 'a': 6, 'field': 7, 'full': 8, 'of': 9, 'challenges': 10}\n"
          ]
        }
      ]
    },
    {
      "cell_type": "code",
      "source": [
        "# Convert the text to sequences\n",
        "sequence = tokenizer.texts_to_sequences([text])\n",
        "print(sequence)\n"
      ],
      "metadata": {
        "colab": {
          "base_uri": "https://localhost:8080/"
        },
        "id": "uARo0fH2tOsM",
        "outputId": "30c18cb0-52f7-48da-e968-1e9412f94671"
      },
      "id": "uARo0fH2tOsM",
      "execution_count": null,
      "outputs": [
        {
          "output_type": "stream",
          "name": "stdout",
          "text": [
            "[[2, 3, 1, 4, 5, 1, 6, 7, 8, 9, 10]]\n"
          ]
        }
      ]
    },
    {
      "cell_type": "code",
      "source": [
        "# Define the tokenizer and fit it on the text\n",
        "tokenizer = Tokenizer(char_level=True)\n",
        "tokenizer.fit_on_texts([text])\n",
        "# Print out the character index to see how characters are tokenized\n",
        "print(tokenizer.word_index)\n",
        "\n"
      ],
      "metadata": {
        "id": "Q-JNE5WU3Daw",
        "colab": {
          "base_uri": "https://localhost:8080/"
        },
        "outputId": "4206ffe3-bd78-468a-922a-a9fd4aad3a29"
      },
      "id": "Q-JNE5WU3Daw",
      "execution_count": null,
      "outputs": [
        {
          "output_type": "stream",
          "name": "stdout",
          "text": [
            "{' ': 1, 'i': 2, 'a': 3, 'n': 4, 'l': 5, 'e': 6, 's': 7, 'f': 8, 'c': 9, 'g': 10, 'h': 11, 't': 12, 'm': 13, 'r': 14, '.': 15, 'd': 16, 'u': 17, 'o': 18, '!': 19}\n"
          ]
        }
      ]
    },
    {
      "cell_type": "code",
      "source": [
        "# Print out the character index to see how characters are tokenized\n",
        "print(tokenizer.word_index)\n",
        "\n"
      ],
      "metadata": {
        "colab": {
          "base_uri": "https://localhost:8080/"
        },
        "id": "GJqfnQzP3GGp",
        "outputId": "099b6313-1bf0-44b0-c200-fe63fb29b3e1"
      },
      "id": "GJqfnQzP3GGp",
      "execution_count": null,
      "outputs": [
        {
          "output_type": "stream",
          "name": "stdout",
          "text": [
            "{' ': 1, 'i': 2, 'a': 3, 'n': 4, 'l': 5, 'e': 6, 's': 7, 'f': 8, 'c': 9, 'g': 10, 'h': 11, 't': 12, 'm': 13, 'r': 14, '.': 15, 'd': 16, 'u': 17, 'o': 18, '!': 19}\n"
          ]
        }
      ]
    },
    {
      "cell_type": "code",
      "source": [
        "# Convert the text to sequences\n",
        "sequence = tokenizer.texts_to_sequences([text])\n",
        "print(sequence)\n"
      ],
      "metadata": {
        "colab": {
          "base_uri": "https://localhost:8080/"
        },
        "id": "xZflCnm83H5q",
        "outputId": "85eee4d2-414c-4262-c566-c17ca0f060b8"
      },
      "id": "xZflCnm83H5q",
      "execution_count": null,
      "outputs": [
        {
          "output_type": "stream",
          "name": "stdout",
          "text": [
            "[[13, 3, 9, 11, 2, 4, 6, 1, 5, 6, 3, 14, 4, 2, 4, 10, 1, 2, 7, 1, 8, 3, 7, 9, 2, 4, 3, 12, 2, 4, 10, 15, 1, 2, 12, 1, 2, 7, 1, 3, 1, 8, 2, 6, 5, 16, 1, 8, 17, 5, 5, 1, 18, 8, 1, 9, 11, 3, 5, 5, 6, 4, 10, 6, 7, 19]]\n"
          ]
        }
      ]
    },
    {
      "cell_type": "code",
      "source": [
        "sentences = [\n",
        "    \"I love reading books.\",\n",
        "    \"The cat sat on the mat.\",\n",
        "    \"It's a beautiful day outside!\",\n",
        "    \"Have you done your homework?\"\n",
        "]\n",
        "\n",
        "tokenizer = Tokenizer()\n",
        "tokenizer.fit_on_texts(sentences)\n",
        "word_index = tokenizer.word_index\n",
        "print(word_index)\n",
        "\n",
        "sequences = tokenizer.texts_to_sequences(sentences)\n",
        "print(sequences)\n",
        "\n"
      ],
      "metadata": {
        "colab": {
          "base_uri": "https://localhost:8080/"
        },
        "id": "NO7-7Bj8EKIF",
        "outputId": "5439d70e-206f-4482-e8bf-00feb39f971d"
      },
      "id": "NO7-7Bj8EKIF",
      "execution_count": null,
      "outputs": [
        {
          "output_type": "stream",
          "name": "stdout",
          "text": [
            "{'the': 1, 'i': 2, 'love': 3, 'reading': 4, 'books': 5, 'cat': 6, 'sat': 7, 'on': 8, 'mat': 9, \"it's\": 10, 'a': 11, 'beautiful': 12, 'day': 13, 'outside': 14, 'have': 15, 'you': 16, 'done': 17, 'your': 18, 'homework': 19}\n",
            "[[2, 3, 4, 5], [1, 6, 7, 8, 1, 9], [10, 11, 12, 13, 14], [15, 16, 17, 18, 19]]\n"
          ]
        }
      ]
    },
    {
      "cell_type": "code",
      "source": [
        "from tensorflow.keras.preprocessing.sequence import pad_sequences\n",
        "padded = pad_sequences(sequences)\n",
        "print(padded)\n"
      ],
      "metadata": {
        "colab": {
          "base_uri": "https://localhost:8080/"
        },
        "id": "Sj8glw-ZEOh-",
        "outputId": "4911e9af-5e81-4979-9a99-d343df00bce0"
      },
      "id": "Sj8glw-ZEOh-",
      "execution_count": null,
      "outputs": [
        {
          "output_type": "stream",
          "name": "stdout",
          "text": [
            "[[ 0  0  2  3  4  5]\n",
            " [ 1  6  7  8  1  9]\n",
            " [ 0 10 11 12 13 14]\n",
            " [ 0 15 16 17 18 19]]\n"
          ]
        }
      ]
    },
    {
      "cell_type": "code",
      "source": [
        "# post padding\n",
        "padded_sequences = pad_sequences(sequences, padding='post')\n",
        "print(padded_sequences)"
      ],
      "metadata": {
        "colab": {
          "base_uri": "https://localhost:8080/"
        },
        "id": "pVDB-zAaJy1i",
        "outputId": "c6f4c4a7-3a89-41fe-f7c6-1606db3c4f28"
      },
      "id": "pVDB-zAaJy1i",
      "execution_count": null,
      "outputs": [
        {
          "output_type": "stream",
          "name": "stdout",
          "text": [
            "[[ 2  3  4  5  0  0]\n",
            " [ 1  6  7  8  1  9]\n",
            " [10 11 12 13 14  0]\n",
            " [15 16 17 18 19  0]]\n"
          ]
        }
      ]
    },
    {
      "cell_type": "code",
      "source": [
        "sentences = [\n",
        "    \"I love reading books.\",\n",
        "    \"The cat sat on the mat.\",\n",
        "    \"It's a beautiful day outside!\",\n",
        "    \"Have you done your homework?\",\n",
        "    \"Machine Learning is a very interesting subject that enables you build amazing solutions beyond your imagination\"\n",
        "]\n",
        "\n",
        "# Define the tokenizer and fit it on the sentences\n",
        "tokenizer = Tokenizer()\n",
        "tokenizer.fit_on_texts(sentences)\n",
        "\n",
        "# Tokenize the sentences\n",
        "sequences = tokenizer.texts_to_sequences(sentences)\n",
        "# post padding\n",
        "padded_sequences = pad_sequences(sequences, padding='post')\n",
        "print(padded_sequences)"
      ],
      "metadata": {
        "colab": {
          "base_uri": "https://localhost:8080/"
        },
        "id": "RPPxZJ8qNFkJ",
        "outputId": "b3b0c4b2-8c2a-4932-e77d-33068cdf065a"
      },
      "id": "RPPxZJ8qNFkJ",
      "execution_count": null,
      "outputs": [
        {
          "output_type": "stream",
          "name": "stdout",
          "text": [
            "[[ 5  6  7  8  0  0  0  0  0  0  0  0  0  0  0  0]\n",
            " [ 1  9 10 11  1 12  0  0  0  0  0  0  0  0  0  0]\n",
            " [13  2 14 15 16  0  0  0  0  0  0  0  0  0  0  0]\n",
            " [17  3 18  4 19  0  0  0  0  0  0  0  0  0  0  0]\n",
            " [20 21 22  2 23 24 25 26 27  3 28 29 30 31  4 32]]\n"
          ]
        }
      ]
    },
    {
      "cell_type": "code",
      "source": [
        "\n",
        "\n",
        "# Define the max length\n",
        "max_length = 10\n",
        "\n",
        "# Pad the sequences\n",
        "padded = pad_sequences(sequences, padding='post', maxlen=max_length)\n",
        "\n",
        "print(padded)"
      ],
      "metadata": {
        "colab": {
          "base_uri": "https://localhost:8080/"
        },
        "id": "YVXv6RBoMAQa",
        "outputId": "7061604c-4606-48b0-f51d-387b91c44213"
      },
      "id": "YVXv6RBoMAQa",
      "execution_count": null,
      "outputs": [
        {
          "output_type": "stream",
          "name": "stdout",
          "text": [
            "[[ 5  6  7  8  0  0  0  0  0  0]\n",
            " [ 1  9 10 11  1 12  0  0  0  0]\n",
            " [13  2 14 15 16  0  0  0  0  0]\n",
            " [17  3 18  4 19  0  0  0  0  0]\n",
            " [25 26 27  3 28 29 30 31  4 32]]\n"
          ]
        }
      ]
    },
    {
      "cell_type": "code",
      "source": [
        "# Pad the sequences\n",
        "padded = pad_sequences(sequences, padding='post', truncating='post', maxlen=max_length)\n",
        "\n",
        "print(padded)\n"
      ],
      "metadata": {
        "colab": {
          "base_uri": "https://localhost:8080/"
        },
        "id": "cKKfrmWHQ1Y8",
        "outputId": "d65c91de-84c3-44e5-b7c1-e283b881b3c4"
      },
      "id": "cKKfrmWHQ1Y8",
      "execution_count": null,
      "outputs": [
        {
          "output_type": "stream",
          "name": "stdout",
          "text": [
            "[[ 5  6  7  8  0  0  0  0  0  0]\n",
            " [ 1  9 10 11  1 12  0  0  0  0]\n",
            " [13  2 14 15 16  0  0  0  0  0]\n",
            " [17  3 18  4 19  0  0  0  0  0]\n",
            " [20 21 22  2 23 24 25 26 27  3]]\n"
          ]
        }
      ]
    },
    {
      "cell_type": "code",
      "source": [
        "# Define the tokenizer with an OOV token\n",
        "tokenizer = Tokenizer(oov_token=\"<OOV>\")\n",
        "# Fit the tokenizer on the texts\n",
        "tokenizer.fit_on_texts(sentences)\n",
        "# Convert the texts to sequences\n",
        "sequences = tokenizer.texts_to_sequences(sentences)\n",
        "# Let's take a look at the word index\n",
        "print(tokenizer.word_index)"
      ],
      "metadata": {
        "colab": {
          "base_uri": "https://localhost:8080/"
        },
        "id": "maz-uE4xUsbo",
        "outputId": "6c7691b0-82b6-4903-e652-83cc08f701d6"
      },
      "id": "maz-uE4xUsbo",
      "execution_count": null,
      "outputs": [
        {
          "output_type": "stream",
          "name": "stdout",
          "text": [
            "{'<OOV>': 1, 'the': 2, 'a': 3, 'you': 4, 'your': 5, 'i': 6, 'love': 7, 'reading': 8, 'books': 9, 'cat': 10, 'sat': 11, 'on': 12, 'mat': 13, \"it's\": 14, 'beautiful': 15, 'day': 16, 'outside': 17, 'have': 18, 'done': 19, 'homework': 20, 'machine': 21, 'learning': 22, 'is': 23, 'very': 24, 'interesting': 25, 'subject': 26, 'that': 27, 'enables': 28, 'build': 29, 'amazing': 30, 'solutions': 31, 'beyond': 32, 'imagination': 33}\n"
          ]
        }
      ]
    },
    {
      "cell_type": "code",
      "source": [
        "# Define the max length\n",
        "max_length = 10\n",
        "# Pad the sequences\n",
        "padded = pad_sequences(sequences, padding='post', truncating='post', maxlen=max_length)\n",
        "print(padded)\n"
      ],
      "metadata": {
        "id": "MLDjbfXpViG4",
        "colab": {
          "base_uri": "https://localhost:8080/"
        },
        "outputId": "95bc90a0-3b07-4110-f9f4-193e5e12287b"
      },
      "id": "MLDjbfXpViG4",
      "execution_count": null,
      "outputs": [
        {
          "output_type": "stream",
          "name": "stdout",
          "text": [
            "[[ 6  7  8  9  0  0  0  0  0  0]\n",
            " [ 2 10 11 12  2 13  0  0  0  0]\n",
            " [14  3 15 16 17  0  0  0  0  0]\n",
            " [18  4 19  5 20  0  0  0  0  0]\n",
            " [21 22 23  3 24 25 26 27 28  4]]\n"
          ]
        }
      ]
    },
    {
      "cell_type": "code",
      "source": [
        "# Now let's convert a sentence with some OOV words\n",
        "test_sentence = \"I love playing chess\"\n",
        "test_sequence = tokenizer.texts_to_sequences([test_sentence])\n",
        "print(test_sequence)\n"
      ],
      "metadata": {
        "colab": {
          "base_uri": "https://localhost:8080/"
        },
        "id": "KduVtOtYU-kk",
        "outputId": "ea57583a-1c11-474b-cfb4-037f7f68d0de"
      },
      "id": "KduVtOtYU-kk",
      "execution_count": null,
      "outputs": [
        {
          "output_type": "stream",
          "name": "stdout",
          "text": [
            "[[6, 7, 1, 1]]\n"
          ]
        }
      ]
    },
    {
      "cell_type": "code",
      "source": [
        "# Get the word index from the tokenizer\n",
        "word_index = tokenizer.word_index\n",
        "\n",
        "# Create a new dictionary with keys and values swapped\n",
        "reverse_word_index = dict([(value, key) for (key, value) in word_index.items()])\n",
        "\n",
        "# Function to convert sequences back to text\n",
        "def sequence_to_text(sequence):\n",
        "    # Use the reverse word index to convert tokens back to words\n",
        "    return ' '.join([reverse_word_index.get(token, '?') for token in sequence])\n",
        "\n",
        "# Convert all sequences back to text\n",
        "original_sentences = [sequence_to_text(sequence) for sequence in sequences]\n",
        "\n",
        "print(original_sentences)\n"
      ],
      "metadata": {
        "colab": {
          "base_uri": "https://localhost:8080/"
        },
        "id": "nUthLFqq2xzI",
        "outputId": "de4be755-58a6-49bc-f446-101cf3aa3ee6"
      },
      "id": "nUthLFqq2xzI",
      "execution_count": null,
      "outputs": [
        {
          "output_type": "stream",
          "name": "stdout",
          "text": [
            "['i love reading books', 'the cat sat on the mat', \"it's a beautiful day outside\", 'have you done your homework', 'machine learning is a very interesting subject that enables you build amazing solutions beyond your imagination']\n"
          ]
        }
      ]
    },
    {
      "cell_type": "markdown",
      "source": [
        "#YELP POLARITY CASE STUDY"
      ],
      "metadata": {
        "id": "Tkl1VJ6_Z1Br"
      },
      "id": "Tkl1VJ6_Z1Br"
    },
    {
      "cell_type": "code",
      "source": [
        "import tensorflow as tf\n",
        "import tensorflow_datasets as tfds\n",
        "from tensorflow.keras.preprocessing.text import Tokenizer\n",
        "from tensorflow.keras.preprocessing.sequence import pad_sequences\n",
        "import numpy as np\n",
        "import io\n",
        "import matplotlib.pyplot as plt\n"
      ],
      "metadata": {
        "id": "Pf5XA-HfPyJd"
      },
      "id": "Pf5XA-HfPyJd",
      "execution_count": null,
      "outputs": []
    },
    {
      "cell_type": "code",
      "source": [
        "# Load the Yelp Polarity Reviews dataset\n",
        "(train_dataset, test_dataset), dataset_info = tfds.load('yelp_polarity_reviews', split=['train', 'test'], shuffle_files=True, with_info=True, as_supervised=True)\n"
      ],
      "metadata": {
        "id": "d9bqp31XP0my",
        "colab": {
          "base_uri": "https://localhost:8080/",
          "height": 168,
          "referenced_widgets": [
            "20c686fbef404a06ba5a0e3fe25389b6",
            "40a5147809e549bcaf68ef53c59b94b9",
            "4d0d734f5088427590d08f63c92fd939",
            "3aa5fc1f52ce41bdbd200e607dc029d4",
            "35a6aaf755794b079962bf780e488284",
            "8eb1753c8ad241fdb21646facfd55cec",
            "d0ea3e2a118c4a52b0b545e9a22f4593",
            "44664c32ca5943c79ccc0d71a0eb7a36",
            "0c6c552d7d21477aa6b3401e4af81e3a",
            "fa9d04b711e24370a5799b3f1e95adeb",
            "badad4ff55954dd8a94d39c8045ab55b",
            "54340686d4e147789759563105b22969",
            "b6205830485e42b5875c7610eef73004",
            "4c67dae449f9474ba725c3657493ad9b",
            "d951cfefaeb94074aa0284316874696a",
            "d0791a6a5ba74494a18a11e933b24090",
            "df20744b03614ce797bef3770942d8c8",
            "20f44f03059d4bc483da260fd62e5d62",
            "87aa655d52a14cf7bf3aa84d30f985c5",
            "ba61f7f83cd248f08a937933d718b718",
            "0fd6b2ac4c8e484eb77c19a581ce336e",
            "f9d21e5936114f029a611e692acd6fce",
            "10a45bfa5790430b9e3896dc7fa92426",
            "f8c1514f956f464dbe06210e8004cdce",
            "06d1a1d5854449a9840cfffd8fb5e0c9",
            "372baa124ef342b5a3115aee32624320",
            "8a9ddafc533d44638981f03ad9b90c04",
            "58f64dbb7b1a4c5187505b382a195ea2",
            "7ad6ca3193d7484cacc6c2fa7b453749",
            "6ca3a5f714ec4ae79157a44e7eb3d02e",
            "0bd800c9bdec49b5b77410b48bfab627",
            "6bb2e9d68f614a10b9b6bb94315c6eb4",
            "10920af1f74f4490a60879f6a679a1fc",
            "a51b4c0d14a64a8d971c78e8234445b6",
            "cd4724d4eb10468382e4250406aa47ea",
            "8ef0de1910ab46eba54b5a7864b1b191",
            "d748a07c090243c99d106384c653ccd5",
            "e3f96769fa5c44bfb8e1e1c6eb84f682",
            "4dd6a7fec3d84bf0aa2fc63c04d9cbce",
            "9f9659f3b8c24e56b1a78bd5aab749cd",
            "8b0176ae7e0a43309a58174fc5f8b63b",
            "218faac3647c428dabf334510545ad2c",
            "8efbf5d599be4df697a50ab75200038b",
            "fd1e88b36ae24bc28ebffe7111ecf38e",
            "74e9583205524947aee70dbcb59c2e82",
            "d63c996d2682439b89ca40b4f24153b1",
            "8b19d35e692644e6994d194200463d8f",
            "02e44c74cf4e48a5b0dde3fcc52a6f3e",
            "1c4c24353c464d8186ee27d2f633427b",
            "f7b9079aca934301a05f87c1564b43c0",
            "e0e639acdcea46208debb9cf755c41fe",
            "806a1abd80d9406c905ce503b7cf33ee",
            "c04f5f68aafb4cb4ab5dde6100d2919a",
            "87f864388ecb45438278edf3c5b4f5dd",
            "9039b165c5214594ab52cc0283d782ef",
            "08b9aed9ef45432199148cec57dbf404",
            "b8f83e8d926c4d21a77116c5a61698c9",
            "c51c686088474d319b9b5c362e2aa057",
            "d29f41055f0e42bb9cc1e50ab805ea9f",
            "d427fc49859b4dcba410a2804752e1ab",
            "5f37f6676f59498d89cb91bec3455dd5",
            "eaf6b64741604cfe8d4bdbea62c2e1a6",
            "7ed2fece877c4214a95cdd62e0336201",
            "26b3d48b0e6c4efbb9220dc48913383b",
            "fb541b21ce28476db7a868e0ad62c5f3",
            "69a8c8bff5bd4a0cb66ae3660f8ad2f6",
            "7a7cb4f87f9d498aa28a91df3189d8ec",
            "75b1d4ea16714fbe93c321b2ef4df0a6",
            "a96d8bfeb7994201931eb00303274da8",
            "2d2326664c41495e98ce1eca08050a5d",
            "edfa53b311334acfb5704735bd02118d",
            "2c2f01785a87490a89581ce904ce431e",
            "f15eb7f98fc34e64b363645b6faa88d6",
            "ef6e9da81d6f4941b914d0829caa3eb4",
            "e96873ad21ec4f5483a5e604970525dc",
            "4f00eb19623e4bbbb2bebb8214372499",
            "7483564cf0904e4cb4386f5432942079",
            "a284485bc0df46678e8c822dcc583567",
            "39546bec0926461ea0daf0a1c10bf222",
            "c5ab1c3d2a8745cdad59fc0396663155",
            "9f7de58fc76c42138418d5f223ad53a5",
            "1f0c335c04c646df8847d096f64bab17",
            "34949e12f3e14b79ae819601a019eb43",
            "28ac891e34ff4f04927eb59383dc7f89",
            "7ed956f9b79b49d6831526e79481bb65",
            "9fd8ed36f6b345ba844eeae176186114",
            "481b5aed451c4ab38af2f810ad908c51",
            "beececddf559458cb590a3051b4922f8"
          ]
        },
        "outputId": "ab3fff4a-c4dc-4af9-a1ca-b2db01bdab9c"
      },
      "id": "d9bqp31XP0my",
      "execution_count": null,
      "outputs": [
        {
          "output_type": "stream",
          "name": "stdout",
          "text": [
            "Downloading and preparing dataset 158.67 MiB (download: 158.67 MiB, generated: 435.14 MiB, total: 593.80 MiB) to /root/tensorflow_datasets/yelp_polarity_reviews/0.2.0...\n"
          ]
        },
        {
          "output_type": "display_data",
          "data": {
            "text/plain": [
              "Dl Completed...: 0 url [00:00, ? url/s]"
            ],
            "application/vnd.jupyter.widget-view+json": {
              "version_major": 2,
              "version_minor": 0,
              "model_id": "20c686fbef404a06ba5a0e3fe25389b6"
            }
          },
          "metadata": {}
        },
        {
          "output_type": "display_data",
          "data": {
            "text/plain": [
              "Dl Size...: 0 MiB [00:00, ? MiB/s]"
            ],
            "application/vnd.jupyter.widget-view+json": {
              "version_major": 2,
              "version_minor": 0,
              "model_id": "54340686d4e147789759563105b22969"
            }
          },
          "metadata": {}
        },
        {
          "output_type": "display_data",
          "data": {
            "text/plain": [
              "Extraction completed...: 0 file [00:00, ? file/s]"
            ],
            "application/vnd.jupyter.widget-view+json": {
              "version_major": 2,
              "version_minor": 0,
              "model_id": "10a45bfa5790430b9e3896dc7fa92426"
            }
          },
          "metadata": {}
        },
        {
          "output_type": "display_data",
          "data": {
            "text/plain": [
              "Generating splits...:   0%|          | 0/2 [00:00<?, ? splits/s]"
            ],
            "application/vnd.jupyter.widget-view+json": {
              "version_major": 2,
              "version_minor": 0,
              "model_id": "a51b4c0d14a64a8d971c78e8234445b6"
            }
          },
          "metadata": {}
        },
        {
          "output_type": "display_data",
          "data": {
            "text/plain": [
              "Generating train examples...:   0%|          | 0/560000 [00:00<?, ? examples/s]"
            ],
            "application/vnd.jupyter.widget-view+json": {
              "version_major": 2,
              "version_minor": 0,
              "model_id": "74e9583205524947aee70dbcb59c2e82"
            }
          },
          "metadata": {}
        },
        {
          "output_type": "display_data",
          "data": {
            "text/plain": [
              "Shuffling /root/tensorflow_datasets/yelp_polarity_reviews/0.2.0.incompleteL9G42R/yelp_polarity_reviews-train.t…"
            ],
            "application/vnd.jupyter.widget-view+json": {
              "version_major": 2,
              "version_minor": 0,
              "model_id": "08b9aed9ef45432199148cec57dbf404"
            }
          },
          "metadata": {}
        },
        {
          "output_type": "display_data",
          "data": {
            "text/plain": [
              "Generating test examples...:   0%|          | 0/38000 [00:00<?, ? examples/s]"
            ],
            "application/vnd.jupyter.widget-view+json": {
              "version_major": 2,
              "version_minor": 0,
              "model_id": "7a7cb4f87f9d498aa28a91df3189d8ec"
            }
          },
          "metadata": {}
        },
        {
          "output_type": "display_data",
          "data": {
            "text/plain": [
              "Shuffling /root/tensorflow_datasets/yelp_polarity_reviews/0.2.0.incompleteL9G42R/yelp_polarity_reviews-test.tf…"
            ],
            "application/vnd.jupyter.widget-view+json": {
              "version_major": 2,
              "version_minor": 0,
              "model_id": "a284485bc0df46678e8c822dcc583567"
            }
          },
          "metadata": {}
        },
        {
          "output_type": "stream",
          "name": "stdout",
          "text": [
            "Dataset yelp_polarity_reviews downloaded and prepared to /root/tensorflow_datasets/yelp_polarity_reviews/0.2.0. Subsequent calls will reuse this data.\n"
          ]
        }
      ]
    },
    {
      "cell_type": "markdown",
      "source": [
        "Exploratory data analyis"
      ],
      "metadata": {
        "id": "jn8cKorCswRL"
      },
      "id": "jn8cKorCswRL"
    },
    {
      "cell_type": "code",
      "source": [
        "def get_reviews(dataset, num_samples=5):\n",
        "    reviews = []\n",
        "    for text, label in dataset.take(num_samples):\n",
        "        reviews.append((text.numpy().decode('utf-8'), label.numpy()))\n",
        "    return reviews\n"
      ],
      "metadata": {
        "id": "Fz0EwbGDnCNZ"
      },
      "id": "Fz0EwbGDnCNZ",
      "execution_count": null,
      "outputs": []
    },
    {
      "cell_type": "code",
      "source": [
        "def dataset_insights(dataset, num_samples=2000):\n",
        "    total_reviews = 0\n",
        "    total_positive = 0\n",
        "    total_negative = 0\n",
        "    total_length = 0\n",
        "    min_length = float('inf')\n",
        "    max_length = 0\n",
        "\n",
        "    for text, label in dataset.take(num_samples):\n",
        "        total_reviews += 1\n",
        "        review_length = len(text.numpy().decode('utf-8').split())\n",
        "        total_length += review_length\n",
        "        if review_length < min_length:\n",
        "            min_length = review_length\n",
        "        if review_length > max_length:\n",
        "            max_length = review_length\n",
        "        if label.numpy() == 1:\n",
        "            total_positive += 1\n",
        "        else:\n",
        "            total_negative += 1\n",
        "\n",
        "    avg_length = total_length / total_reviews\n",
        "    return min_length, max_length, avg_length, total_positive, total_negative\n"
      ],
      "metadata": {
        "id": "AkKFlloZnDAV"
      },
      "id": "AkKFlloZnDAV",
      "execution_count": null,
      "outputs": []
    },
    {
      "cell_type": "code",
      "source": [
        "def plot_reviews(positive, negative):\n",
        "    labels = ['Positive', 'Negative']\n",
        "    counts = [positive, negative]\n",
        "    plt.bar(labels, counts, color=['blue', 'red'])\n",
        "    plt.xlabel('Review Type')\n",
        "    plt.ylabel('Count')\n",
        "    plt.title('Distribution of Reviews')\n",
        "    plt.show()\n"
      ],
      "metadata": {
        "id": "HyUYx3kXnG_G"
      },
      "id": "HyUYx3kXnG_G",
      "execution_count": null,
      "outputs": []
    },
    {
      "cell_type": "code",
      "source": [
        "# Check out some reviews\n",
        "print(\"Training Set Reviews:\")\n",
        "train_reviews = get_reviews(train_dataset, 7)\n",
        "for review, label in train_reviews:\n",
        "  #we keep only the first 100 characters for similplicty\n",
        "  print(f\"Label: {label}, Review: {review[:100]}...\")"
      ],
      "metadata": {
        "colab": {
          "base_uri": "https://localhost:8080/"
        },
        "id": "JA0txLMon5HD",
        "outputId": "af27de93-6634-416f-a271-a8cccf181ba0"
      },
      "id": "JA0txLMon5HD",
      "execution_count": null,
      "outputs": [
        {
          "output_type": "stream",
          "name": "stdout",
          "text": [
            "Training Set Reviews:\n",
            "Label: 1, Review: If you want to be on the strip, this isn't the place for you.  I have never stayed on the strip in V...\n",
            "Label: 1, Review: A great place to shop in Vegas, one of my favorite places to break my wallets in...\\r\\n\\r\\nI don't g...\n",
            "Label: 1, Review: First time trying this place out...ordered the Aloha Chicken! :-) The food was pretty good...althoug...\n",
            "Label: 0, Review: It was bad. My nails are ruined. I asked for purple and sparkles and they gave me nothing near that....\n",
            "Label: 1, Review: My wife ordered bun tom thit nuong, also known as old #43 -   charbroiled shrimp & egg roll with ric...\n",
            "Label: 1, Review: Great club! Patrons be weary . . . We attended this club when Diddy was hosting and everybody knows ...\n",
            "Label: 1, Review: i really enjoy this place the last few times ive been here. the food is good, i do however wish the ...\n"
          ]
        }
      ]
    },
    {
      "cell_type": "code",
      "source": [
        "min_length, max_length, avg_length, total_positive, total_negative = dataset_insights(train_dataset)\n",
        "\n",
        "# Display the results\n",
        "print(f\"Shortest Review Length: {min_length}\")\n",
        "print(f\"Longest Review Length: {max_length}\")\n",
        "print(f\"Average Review Length: {avg_length:.2f}\")\n",
        "print(f\"Total Positive Reviews: {total_positive}\")\n",
        "print(f\"Total Negative Reviews: {total_negative}\")\n"
      ],
      "metadata": {
        "colab": {
          "base_uri": "https://localhost:8080/"
        },
        "id": "Cz5n9xqnoQeW",
        "outputId": "25edfe94-c2d6-43b9-980e-8a9eb36df220"
      },
      "id": "Cz5n9xqnoQeW",
      "execution_count": null,
      "outputs": [
        {
          "output_type": "stream",
          "name": "stdout",
          "text": [
            "Shortest Review Length: 1\n",
            "Longest Review Length: 942\n",
            "Average Review Length: 132.16\n",
            "Total Positive Reviews: 1026\n",
            "Total Negative Reviews: 974\n"
          ]
        }
      ]
    },
    {
      "cell_type": "code",
      "source": [
        "plot_reviews(total_positive, total_negative)"
      ],
      "metadata": {
        "colab": {
          "base_uri": "https://localhost:8080/",
          "height": 472
        },
        "id": "_SA0eJggqDqR",
        "outputId": "ad5f230f-baac-41da-e3fd-a72874f86760"
      },
      "id": "_SA0eJggqDqR",
      "execution_count": null,
      "outputs": [
        {
          "output_type": "display_data",
          "data": {
            "text/plain": [
              "<Figure size 640x480 with 1 Axes>"
            ],
            "image/png": "[encoded data removed]"
          },
          "metadata": {}
        }
      ]
    },
    {
      "cell_type": "code",
      "source": [
        "# Define parameters\n",
        "vocab_size = 10000\n",
        "embedding_dim = 16\n",
        "max_length = 132\n",
        "trunc_type='post'\n",
        "padding_type='post'\n",
        "oov_tok = \"<OOV>\"\n",
        "num_epochs = 10\n",
        "\n",
        "# Build the Tokenizer\n",
        "tokenizer = Tokenizer(num_words=vocab_size, oov_token=oov_tok)"
      ],
      "metadata": {
        "id": "5sgQYb_AP0jp"
      },
      "id": "5sgQYb_AP0jp",
      "execution_count": null,
      "outputs": []
    },
    {
      "cell_type": "code",
      "source": [
        "\n",
        "# Fetch and decode the training data\n",
        "train_text = []\n",
        "train_label = []\n",
        "for example in train_dataset.take(20000):\n",
        "  text, label = example\n",
        "  train_text.append(text.numpy().decode('utf-8'))\n",
        "  train_label.append(label.numpy())\n",
        "\n",
        "# Convert labels to numpy array\n",
        "train_labels = np.array(train_label)\n",
        "\n",
        "# Fit the tokenizer on the training texts\n",
        "tokenizer.fit_on_texts(train_text)\n",
        "\n",
        "# Convert texts to sequences\n",
        "train_sequences = tokenizer.texts_to_sequences(train_text)\n",
        "\n",
        "# Fetch and decode the test data\n",
        "test_text = []\n",
        "test_label = []\n",
        "for example in test_dataset.take(8000):\n",
        "  text, label = example\n",
        "  test_text.append(text.numpy().decode('utf-8'))\n",
        "  test_label.append(label.numpy())\n",
        "\n",
        "# Convert labels to numpy array\n",
        "test_labels = np.array(test_label)\n",
        "\n",
        "# Convert texts to sequences\n",
        "test_sequences = tokenizer.texts_to_sequences(test_text)\n",
        "\n",
        "# Pad the sequences\n",
        "train_padded = pad_sequences(train_sequences, maxlen=max_length, padding=padding_type, truncating=trunc_type)\n",
        "test_padded = pad_sequences(test_sequences, maxlen=max_length, padding=padding_type, truncating=trunc_type)"
      ],
      "metadata": {
        "id": "K4OlDK9UP0d1"
      },
      "id": "K4OlDK9UP0d1",
      "execution_count": null,
      "outputs": []
    },
    {
      "cell_type": "code",
      "source": [
        "\n",
        "# Define the model\n",
        "model = tf.keras.Sequential([\n",
        "    tf.keras.layers.Embedding(vocab_size, embedding_dim, input_length=max_length),\n",
        "    tf.keras.layers.GlobalAveragePooling1D(),\n",
        "    tf.keras.layers.Dense(24, activation='relu'),\n",
        "    tf.keras.layers.Dense(1, activation='sigmoid') # because it's binary classification\n",
        "])\n",
        "\n",
        "# Compile the model\n",
        "model.compile(loss='binary_crossentropy',optimizer='adam',metrics=['accuracy'])\n",
        "\n",
        "# Train the model\n",
        "\n",
        "history = model.fit(train_padded, train_labels, epochs=num_epochs, validation_data=(test_padded, test_labels))\n",
        "# Evaluate the model\n",
        "results = model.evaluate(test_padded, test_labels, verbose=2)\n",
        "\n",
        "print(\"Test Loss: \", results[0])\n",
        "print(\"Test Accuracy: \", results[1])\n",
        "\n"
      ],
      "metadata": {
        "colab": {
          "base_uri": "https://localhost:8080/"
        },
        "id": "OlXsxhq3PyGJ",
        "outputId": "ebaf3d30-cc24-4e61-fccc-6e1e9b948290"
      },
      "id": "OlXsxhq3PyGJ",
      "execution_count": null,
      "outputs": [
        {
          "output_type": "stream",
          "name": "stdout",
          "text": [
            "Epoch 1/10\n",
            "625/625 [==============================] - 63s 92ms/step - loss: 0.5151 - accuracy: 0.7599 - val_loss: 0.3407 - val_accuracy: 0.8766\n",
            "Epoch 2/10\n",
            "625/625 [==============================] - 11s 18ms/step - loss: 0.2699 - accuracy: 0.8972 - val_loss: 0.2891 - val_accuracy: 0.8775\n",
            "Epoch 3/10\n",
            "625/625 [==============================] - 8s 12ms/step - loss: 0.2108 - accuracy: 0.9218 - val_loss: 0.2741 - val_accuracy: 0.8978\n",
            "Epoch 4/10\n",
            "625/625 [==============================] - 5s 8ms/step - loss: 0.1759 - accuracy: 0.9355 - val_loss: 0.2783 - val_accuracy: 0.8956\n",
            "Epoch 5/10\n",
            "625/625 [==============================] - 7s 11ms/step - loss: 0.1501 - accuracy: 0.9469 - val_loss: 0.2924 - val_accuracy: 0.8917\n",
            "Epoch 6/10\n",
            "625/625 [==============================] - 4s 7ms/step - loss: 0.1293 - accuracy: 0.9551 - val_loss: 0.3149 - val_accuracy: 0.8875\n",
            "Epoch 7/10\n",
            "625/625 [==============================] - 4s 6ms/step - loss: 0.1116 - accuracy: 0.9638 - val_loss: 0.3330 - val_accuracy: 0.8880\n",
            "Epoch 8/10\n",
            "625/625 [==============================] - 5s 9ms/step - loss: 0.0960 - accuracy: 0.9697 - val_loss: 0.3703 - val_accuracy: 0.8813\n",
            "Epoch 9/10\n",
            "625/625 [==============================] - 4s 6ms/step - loss: 0.0828 - accuracy: 0.9751 - val_loss: 0.3885 - val_accuracy: 0.8796\n",
            "Epoch 10/10\n",
            "625/625 [==============================] - 4s 6ms/step - loss: 0.0727 - accuracy: 0.9786 - val_loss: 0.4258 - val_accuracy: 0.8783\n",
            "250/250 - 0s - loss: 0.4258 - accuracy: 0.8783 - 403ms/epoch - 2ms/step\n",
            "Test Loss:  0.4257800877094269\n",
            "Test Accuracy:  0.878250002861023\n"
          ]
        }
      ]
    },
    {
      "cell_type": "code",
      "source": [
        "def plot_history(history):\n",
        "    plt.figure(figsize=(12, 4))\n",
        "\n",
        "    # Plot training & validation accuracy values\n",
        "    plt.subplot(1, 2, 1)\n",
        "    plt.plot(history.history['accuracy'])\n",
        "    plt.plot(history.history['val_accuracy'])\n",
        "    plt.title('Model accuracy')\n",
        "    plt.ylabel('Accuracy')\n",
        "    plt.xlabel('Epoch')\n",
        "    plt.legend(['Train', 'Validation'], loc='upper left')\n",
        "\n",
        "    # Plot training & validation loss values\n",
        "    plt.subplot(1, 2, 2)\n",
        "    plt.plot(history.history['loss'])\n",
        "    plt.plot(history.history['val_loss'])\n",
        "    plt.title('Model loss')\n",
        "    plt.ylabel('Loss')\n",
        "    plt.xlabel('Epoch')\n",
        "    plt.legend(['Train', 'Validation'], loc='upper right')\n",
        "\n",
        "    plt.tight_layout()\n",
        "    plt.show()\n"
      ],
      "metadata": {
        "id": "p7KhRAwdqp65"
      },
      "id": "p7KhRAwdqp65",
      "execution_count": null,
      "outputs": []
    },
    {
      "cell_type": "code",
      "source": [
        "plot_history(history)"
      ],
      "metadata": {
        "colab": {
          "base_uri": "https://localhost:8080/",
          "height": 382
        },
        "id": "j7JNRkYxqqx0",
        "outputId": "d33e26e7-6675-4fb7-98ba-a300cf68cf97"
      },
      "id": "j7JNRkYxqqx0",
      "execution_count": null,
      "outputs": [
        {
          "output_type": "display_data",
          "data": {
            "text/plain": [
              "<Figure size 1200x400 with 2 Axes>"
            ],
            "image/png": "[encoded data removed]"
          },
          "metadata": {}
        }
      ]
    },
    {
      "cell_type": "code",
      "source": [
        "# New sentence\n",
        "new_sentence = [\"The restaurant was absolutely fantastic. The staff were kind and the food was delicious.\"]\n",
        "\n",
        "# Preprocess the sentence in the same way as the training data\n",
        "new_sequences = tokenizer.texts_to_sequences(new_sentence)\n",
        "new_padded = pad_sequences(new_sequences, maxlen=max_length, padding=padding_type, truncating=trunc_type)\n",
        "\n",
        "print(new_padded)\n",
        "# Use the model to predict the sentiment of the new sentence\n",
        "prediction = model.predict(new_padded)\n",
        "\n",
        "# Print out the prediction. Note that the output will be a float in the range [0, 1], which represents the probability of the sentence being positive.\n",
        "print(prediction)\n"
      ],
      "metadata": {
        "colab": {
          "base_uri": "https://localhost:8080/"
        },
        "id": "y5f2PmjHqDNc",
        "outputId": "6dcb03e2-fb94-4cc8-d4b5-51862b23d1ee"
      },
      "id": "y5f2PmjHqDNc",
      "execution_count": null,
      "outputs": [
        {
          "output_type": "stream",
          "name": "stdout",
          "text": [
            "[[  2 106   7 512 548   2 124  27 295   3   2  32   7 184   0   0   0   0\n",
            "    0   0   0   0   0   0   0   0   0   0   0   0   0   0   0   0   0   0\n",
            "    0   0   0   0   0   0   0   0   0   0   0   0   0   0   0   0   0   0\n",
            "    0   0   0   0   0   0   0   0   0   0   0   0   0   0   0   0   0   0\n",
            "    0   0   0   0   0   0   0   0   0   0   0   0   0   0   0   0   0   0\n",
            "    0   0   0   0   0   0   0   0   0   0   0   0   0   0   0   0   0   0\n",
            "    0   0   0   0   0   0   0   0   0   0   0   0   0   0   0   0   0   0\n",
            "    0   0   0   0   0   0]]\n",
            "1/1 [==============================] - 0s 17ms/step\n",
            "[[0.9861252]]\n"
          ]
        }
      ]
    },
    {
      "cell_type": "code",
      "source": [
        "# To convert this into a binary sentiment prediction, we can check if the probability is greater than 0.5.\n",
        "if prediction > 0.5:\n",
        "  print(\"Positive sentiment\")\n",
        "else:\n",
        "  print(\"Negative sentiment\")\n",
        "\n",
        "# New sentences\n",
        "new_sentences = [\"The restaurant was absolutely fantastic. The staff were kind and the food was delicious.\",  # positive\n",
        "                 \"I've had an incredible day at the beach, the weather was beautiful.\",  # positive\n",
        "                 \"The movie was a big disappointment. I wouldn't recommend it to anyone.\",  # negative\n",
        "                 \"I bought a new phone and it stopped working after a week. Terrible product.\"]  # negative\n",
        "\n",
        "# Preprocess the sentences in the same way as the training data\n",
        "new_sequences = tokenizer.texts_to_sequences(new_sentences)\n",
        "new_padded = pad_sequences(new_sequences, maxlen=max_length, padding=padding_type, truncating=trunc_type)\n",
        "\n",
        "# Use the model to predict the sentiment of the new sentences\n",
        "predictions = model.predict(new_padded)\n",
        "\n",
        "# Print out the sequences and the corresponding predictions\n",
        "for i in range(len(new_sentences)):\n",
        "    print(\"Sequence:\", new_sequences[i])\n",
        "    print(\"Predicted sentiment (probability):\", predictions[i])\n",
        "    if predictions[i] > 0.5:\n",
        "        print(\"Interpretation: Positive sentiment\")\n",
        "    else:\n",
        "        print(\"Interpretation: Negative sentiment\")\n",
        "    print(\"\\n\")"
      ],
      "metadata": {
        "colab": {
          "base_uri": "https://localhost:8080/"
        },
        "id": "r9jQkqu9p7Rc",
        "outputId": "87938e7a-2b88-444a-e72a-690dc26cf7fe"
      },
      "id": "r9jQkqu9p7Rc",
      "execution_count": null,
      "outputs": [
        {
          "output_type": "stream",
          "name": "stdout",
          "text": [
            "Positive sentiment\n",
            "1/1 [==============================] - 0s 20ms/step\n",
            "Sequence: [2, 106, 7, 512, 548, 2, 124, 27, 295, 3, 2, 32, 7, 184]\n",
            "Predicted sentiment (probability): [0.9861252]\n",
            "Interpretation: Positive sentiment\n",
            "\n",
            "\n",
            "Sequence: [112, 25, 60, 1219, 149, 26, 2, 3420, 2, 2026, 7, 644]\n",
            "Predicted sentiment (probability): [0.9916637]\n",
            "Interpretation: Positive sentiment\n",
            "\n",
            "\n",
            "Sequence: [2, 1124, 7, 6, 224, 1120, 4, 460, 232, 9, 5, 498]\n",
            "Predicted sentiment (probability): [0.12388425]\n",
            "Interpretation: Negative sentiment\n",
            "\n",
            "\n",
            "Sequence: [4, 737, 6, 161, 441, 3, 9, 675, 517, 83, 6, 390, 472, 1441]\n",
            "Predicted sentiment (probability): [0.08920211]\n",
            "Interpretation: Negative sentiment\n",
            "\n",
            "\n"
          ]
        }
      ]
    },
    {
      "cell_type": "code",
      "source": [
        "weights = model.get_layer('embedding').get_weights()[0]\n",
        "vocab = tokenizer.word_index\n",
        "print(weights.shape)  # shape: (vocab_size, embedding_dim)"
      ],
      "metadata": {
        "colab": {
          "base_uri": "https://localhost:8080/"
        },
        "id": "AyFEZHl4hc8q",
        "outputId": "d598ff05-889b-43d0-95e4-e049b682c1b1"
      },
      "id": "AyFEZHl4hc8q",
      "execution_count": null,
      "outputs": [
        {
          "output_type": "stream",
          "name": "stdout",
          "text": [
            "(10000, 16)\n"
          ]
        }
      ]
    },
    {
      "cell_type": "code",
      "source": [
        "out_v = io.open('vectors.tsv', 'w', encoding='utf-8')\n",
        "out_m = io.open('metadata.tsv', 'w', encoding='utf-8')\n",
        "\n",
        "for word, index in vocab.items():\n",
        "    if index < vocab_size:\n",
        "        vec = weights[index]\n",
        "        out_v.write('\\t'.join([str(x) for x in vec]) + \"\\n\")\n",
        "        out_m.write(word + \"\\n\")\n",
        "\n",
        "out_v.close()\n",
        "out_m.close()"
      ],
      "metadata": {
        "id": "0AtVFNbShiKT"
      },
      "id": "0AtVFNbShiKT",
      "execution_count": null,
      "outputs": []
    },
    {
      "cell_type": "code",
      "source": [
        "try:\n",
        "    from google.colab import files\n",
        "    files.download('vectors.tsv')\n",
        "    files.download('metadata.tsv')\n",
        "except Exception:\n",
        "    pass"
      ],
      "metadata": {
        "colab": {
          "base_uri": "https://localhost:8080/",
          "height": 17
        },
        "id": "k6_y8oIUhRM6",
        "outputId": "dac916e6-7b92-4a7d-b24d-86b27915cde8"
      },
      "id": "k6_y8oIUhRM6",
      "execution_count": null,
      "outputs": [
        {
          "output_type": "display_data",
          "data": {
            "text/plain": [
              "<IPython.core.display.Javascript object>"
            ],
            "application/javascript": [
              "\n",
              "    async function download(id, filename, size) {\n",
              "      if (!google.colab.kernel.accessAllowed) {\n",
              "        return;\n",
              "      }\n",
              "      const div = document.createElement('div');\n",
              "      const label = document.createElement('label');\n",
              "      label.textContent = `Downloading \"${filename}\": `;\n",
              "      div.appendChild(label);\n",
              "      const progress = document.createElement('progress');\n",
              "      progress.max = size;\n",
              "      div.appendChild(progress);\n",
              "      document.body.appendChild(div);\n",
              "\n",
              "      const buffers = [];\n",
              "      let downloaded = 0;\n",
              "\n",
              "      const channel = await google.colab.kernel.comms.open(id);\n",
              "      // Send a message to notify the kernel that we're ready.\n",
              "      channel.send({})\n",
              "\n",
              "      for await (const message of channel.messages) {\n",
              "        // Send a message to notify the kernel that we're ready.\n",
              "        channel.send({})\n",
              "        if (message.buffers) {\n",
              "          for (const buffer of message.buffers) {\n",
              "            buffers.push(buffer);\n",
              "            downloaded += buffer.byteLength;\n",
              "            progress.value = downloaded;\n",
              "          }\n",
              "        }\n",
              "      }\n",
              "      const blob = new Blob(buffers, {type: 'application/binary'});\n",
              "      const a = document.createElement('a');\n",
              "      a.href = window.URL.createObjectURL(blob);\n",
              "      a.download = filename;\n",
              "      div.appendChild(a);\n",
              "      a.click();\n",
              "      div.remove();\n",
              "    }\n",
              "  "
            ]
          },
          "metadata": {}
        },
        {
          "output_type": "display_data",
          "data": {
            "text/plain": [
              "<IPython.core.display.Javascript object>"
            ],
            "application/javascript": [
              "download(\"download_5709e6cc-4010-4717-a33f-7f3eb89e2909\", \"vectors.tsv\", 1861491)"
            ]
          },
          "metadata": {}
        },
        {
          "output_type": "display_data",
          "data": {
            "text/plain": [
              "<IPython.core.display.Javascript object>"
            ],
            "application/javascript": [
              "\n",
              "    async function download(id, filename, size) {\n",
              "      if (!google.colab.kernel.accessAllowed) {\n",
              "        return;\n",
              "      }\n",
              "      const div = document.createElement('div');\n",
              "      const label = document.createElement('label');\n",
              "      label.textContent = `Downloading \"${filename}\": `;\n",
              "      div.appendChild(label);\n",
              "      const progress = document.createElement('progress');\n",
              "      progress.max = size;\n",
              "      div.appendChild(progress);\n",
              "      document.body.appendChild(div);\n",
              "\n",
              "      const buffers = [];\n",
              "      let downloaded = 0;\n",
              "\n",
              "      const channel = await google.colab.kernel.comms.open(id);\n",
              "      // Send a message to notify the kernel that we're ready.\n",
              "      channel.send({})\n",
              "\n",
              "      for await (const message of channel.messages) {\n",
              "        // Send a message to notify the kernel that we're ready.\n",
              "        channel.send({})\n",
              "        if (message.buffers) {\n",
              "          for (const buffer of message.buffers) {\n",
              "            buffers.push(buffer);\n",
              "            downloaded += buffer.byteLength;\n",
              "            progress.value = downloaded;\n",
              "          }\n",
              "        }\n",
              "      }\n",
              "      const blob = new Blob(buffers, {type: 'application/binary'});\n",
              "      const a = document.createElement('a');\n",
              "      a.href = window.URL.createObjectURL(blob);\n",
              "      a.download = filename;\n",
              "      div.appendChild(a);\n",
              "      a.click();\n",
              "      div.remove();\n",
              "    }\n",
              "  "
            ]
          },
          "metadata": {}
        },
        {
          "output_type": "display_data",
          "data": {
            "text/plain": [
              "<IPython.core.display.Javascript object>"
            ],
            "application/javascript": [
              "download(\"download_1d3247b9-f952-44c8-a99f-a66dca3ab51e\", \"metadata.tsv\", 73401)"
            ]
          },
          "metadata": {}
        }
      ]
    },
    {
      "cell_type": "code",
      "source": [
        "def sentiment_model(vocab_size, embedding_dim, training_size, num_epochs):\n",
        "    # Constants\n",
        "    max_length = 132\n",
        "    trunc_type = 'post'\n",
        "    padding_type = 'post'\n",
        "    oov_tok = \"<OOV>\"\n",
        "\n",
        "    # Build the Tokenizer\n",
        "    tokenizer = Tokenizer(num_words=vocab_size, oov_token=oov_tok)\n",
        "\n",
        "    # Fetch and decode the training data\n",
        "    train_text = []\n",
        "    train_label = []\n",
        "    for example in train_dataset.take(training_size):\n",
        "        text, label = example\n",
        "        train_text.append(text.numpy().decode('utf-8'))\n",
        "        train_label.append(label.numpy())\n",
        "\n",
        "    # Convert labels to numpy array\n",
        "    train_labels = np.array(train_label)\n",
        "\n",
        "    # Fit the tokenizer on the training texts\n",
        "    tokenizer.fit_on_texts(train_text)\n",
        "\n",
        "    # Convert texts to sequences\n",
        "    train_sequences = tokenizer.texts_to_sequences(train_text)\n",
        "\n",
        "    # Fetch and decode the test data\n",
        "    test_text = []\n",
        "    test_label = []\n",
        "    for example in test_dataset.take(8000):\n",
        "        text, label = example\n",
        "        test_text.append(text.numpy().decode('utf-8'))\n",
        "        test_label.append(label.numpy())\n",
        "\n",
        "    # Convert labels to numpy array\n",
        "    test_labels = np.array(test_label)\n",
        "\n",
        "    # Convert texts to sequences\n",
        "    test_sequences = tokenizer.texts_to_sequences(test_text)\n",
        "\n",
        "    # Pad the sequences\n",
        "    train_padded = pad_sequences(train_sequences, maxlen=max_length, padding=padding_type, truncating=trunc_type)\n",
        "    test_padded = pad_sequences(test_sequences, maxlen=max_length, padding=padding_type, truncating=trunc_type)\n",
        "\n",
        "    # Define the model\n",
        "    model = tf.keras.Sequential([\n",
        "        tf.keras.layers.Embedding(vocab_size, embedding_dim, input_length=max_length),\n",
        "        tf.keras.layers.GlobalAveragePooling1D(),\n",
        "        tf.keras.layers.Dense(24, activation='relu'),\n",
        "        tf.keras.layers.Dense(1, activation='sigmoid')  # because it's binary classification\n",
        "    ])\n",
        "\n",
        "    # Compile the model\n",
        "    model.compile(loss='binary_crossentropy', optimizer='adam', metrics=['accuracy'])\n",
        "\n",
        "    # Train the model\n",
        "    history = model.fit(train_padded, train_labels, epochs=num_epochs, validation_data=(test_padded, test_labels))\n",
        "\n",
        "    # Evaluate the model\n",
        "    results = model.evaluate(test_padded, test_labels, verbose=2)\n",
        "\n",
        "    print(\"Test Loss: \", results[0])\n",
        "    print(\"Test Accuracy: \", results[1])\n",
        "\n",
        "    return model, history\n",
        "\n"
      ],
      "metadata": {
        "id": "YIU3AaFjoSUy"
      },
      "id": "YIU3AaFjoSUy",
      "execution_count": null,
      "outputs": []
    },
    {
      "cell_type": "markdown",
      "source": [
        "#Increase the vocabulary size"
      ],
      "metadata": {
        "id": "xgP94fqag9xQ"
      },
      "id": "xgP94fqag9xQ"
    },
    {
      "cell_type": "code",
      "source": [
        "# Increasing the vocab_size\n",
        "vocab_size = 10000 #Change from 10000 to 20000\n",
        "embedding_dim = 16\n",
        "training_size = 10000\n",
        "num_epochs=10\n",
        "\n",
        "model, history = sentiment_model(vocab_size, embedding_dim, training_size, num_epochs)"
      ],
      "metadata": {
        "colab": {
          "base_uri": "https://localhost:8080/"
        },
        "id": "iV-5jAtDsxRT",
        "outputId": "d725952a-9cc7-440c-8e1d-0fddfb74ae7a"
      },
      "id": "iV-5jAtDsxRT",
      "execution_count": null,
      "outputs": [
        {
          "output_type": "stream",
          "name": "stdout",
          "text": [
            "Epoch 1/10\n",
            "313/313 [==============================] - 2s 4ms/step - loss: 0.6283 - accuracy: 0.6865 - val_loss: 0.4930 - val_accuracy: 0.7885\n",
            "Epoch 2/10\n",
            "313/313 [==============================] - 1s 4ms/step - loss: 0.3666 - accuracy: 0.8651 - val_loss: 0.3363 - val_accuracy: 0.8720\n",
            "Epoch 3/10\n",
            "313/313 [==============================] - 1s 3ms/step - loss: 0.2512 - accuracy: 0.9105 - val_loss: 0.3003 - val_accuracy: 0.8814\n",
            "Epoch 4/10\n",
            "313/313 [==============================] - 1s 3ms/step - loss: 0.1969 - accuracy: 0.9325 - val_loss: 0.2969 - val_accuracy: 0.8814\n",
            "Epoch 5/10\n",
            "313/313 [==============================] - 1s 4ms/step - loss: 0.1592 - accuracy: 0.9471 - val_loss: 0.2987 - val_accuracy: 0.8845\n",
            "Epoch 6/10\n",
            "313/313 [==============================] - 1s 4ms/step - loss: 0.1301 - accuracy: 0.9564 - val_loss: 0.3086 - val_accuracy: 0.8859\n",
            "Epoch 7/10\n",
            "313/313 [==============================] - 1s 5ms/step - loss: 0.1064 - accuracy: 0.9666 - val_loss: 0.3273 - val_accuracy: 0.8823\n",
            "Epoch 8/10\n",
            "313/313 [==============================] - 1s 4ms/step - loss: 0.0856 - accuracy: 0.9744 - val_loss: 0.3510 - val_accuracy: 0.8802\n",
            "Epoch 9/10\n",
            "313/313 [==============================] - 2s 6ms/step - loss: 0.0704 - accuracy: 0.9802 - val_loss: 0.3748 - val_accuracy: 0.8792\n",
            "Epoch 10/10\n",
            "313/313 [==============================] - 1s 3ms/step - loss: 0.0568 - accuracy: 0.9847 - val_loss: 0.4047 - val_accuracy: 0.8745\n",
            "250/250 - 0s - loss: 0.4047 - accuracy: 0.8745 - 237ms/epoch - 950us/step\n",
            "Test Loss:  0.4047470986843109\n",
            "Test Accuracy:  0.8744999766349792\n"
          ]
        }
      ]
    },
    {
      "cell_type": "markdown",
      "source": [
        "#Increase the embedding dimension"
      ],
      "metadata": {
        "id": "ADRjxrAIMG22"
      },
      "id": "ADRjxrAIMG22"
    },
    {
      "cell_type": "code",
      "source": [
        "vocab_size = 10000\n",
        "embedding_dim = 32 #Change from 16 to 32\n",
        "train_size = 20000\n",
        "num_epochs=10\n",
        "\n",
        "model_2, history_2 = sentiment_model(vocab_size, embedding_dim, train_size, num_epochs)\n"
      ],
      "metadata": {
        "colab": {
          "base_uri": "https://localhost:8080/"
        },
        "id": "DGMfIZeYpHUc",
        "outputId": "392c505a-de0b-44c9-dcee-0a697e9545d6"
      },
      "id": "DGMfIZeYpHUc",
      "execution_count": null,
      "outputs": [
        {
          "output_type": "stream",
          "name": "stdout",
          "text": [
            "Epoch 1/10\n",
            "625/625 [==============================] - 55s 79ms/step - loss: 0.4719 - accuracy: 0.7841 - val_loss: 0.3152 - val_accuracy: 0.8814\n",
            "Epoch 2/10\n",
            "625/625 [==============================] - 10s 16ms/step - loss: 0.2498 - accuracy: 0.9052 - val_loss: 0.2832 - val_accuracy: 0.8925\n",
            "Epoch 3/10\n",
            "625/625 [==============================] - 9s 15ms/step - loss: 0.1947 - accuracy: 0.9280 - val_loss: 0.2812 - val_accuracy: 0.8942\n",
            "Epoch 4/10\n",
            "625/625 [==============================] - 4s 6ms/step - loss: 0.1619 - accuracy: 0.9428 - val_loss: 0.3017 - val_accuracy: 0.8796\n",
            "Epoch 5/10\n",
            "625/625 [==============================] - 4s 7ms/step - loss: 0.1351 - accuracy: 0.9534 - val_loss: 0.3131 - val_accuracy: 0.8882\n",
            "Epoch 6/10\n",
            "625/625 [==============================] - 4s 6ms/step - loss: 0.1156 - accuracy: 0.9619 - val_loss: 0.3605 - val_accuracy: 0.8827\n",
            "Epoch 7/10\n",
            "625/625 [==============================] - 4s 6ms/step - loss: 0.0973 - accuracy: 0.9682 - val_loss: 0.3661 - val_accuracy: 0.8819\n",
            "Epoch 8/10\n",
            "625/625 [==============================] - 5s 9ms/step - loss: 0.0826 - accuracy: 0.9747 - val_loss: 0.4045 - val_accuracy: 0.8798\n",
            "Epoch 9/10\n",
            "625/625 [==============================] - 3s 5ms/step - loss: 0.0708 - accuracy: 0.9784 - val_loss: 0.4415 - val_accuracy: 0.8744\n",
            "Epoch 10/10\n",
            "625/625 [==============================] - 4s 6ms/step - loss: 0.0596 - accuracy: 0.9825 - val_loss: 0.4774 - val_accuracy: 0.8720\n",
            "250/250 - 0s - loss: 0.4774 - accuracy: 0.8720 - 421ms/epoch - 2ms/step\n",
            "Test Loss:  0.477395236492157\n",
            "Test Accuracy:  0.871999979019165\n"
          ]
        }
      ]
    },
    {
      "cell_type": "markdown",
      "source": [
        "#Add more training data"
      ],
      "metadata": {
        "id": "Ps_I5EHGPMcs"
      },
      "id": "Ps_I5EHGPMcs"
    },
    {
      "cell_type": "code",
      "source": [
        "vocab_size = 10000\n",
        "embedding_dim = 16\n",
        "train_size = 20000 #Change from 20,000 to 40,000\n",
        "num_epochs=10\n",
        "\n",
        "model_3, history_3 = sentiment_model(vocab_size, embedding_dim, train_size, num_epochs)\n"
      ],
      "metadata": {
        "colab": {
          "base_uri": "https://localhost:8080/"
        },
        "id": "wmuIuN7vpHRQ",
        "outputId": "babda741-3f80-4116-9d72-143ee79f830b"
      },
      "id": "wmuIuN7vpHRQ",
      "execution_count": null,
      "outputs": [
        {
          "output_type": "stream",
          "name": "stdout",
          "text": [
            "Epoch 1/10\n",
            "625/625 [==============================] - 55s 79ms/step - loss: 0.5177 - accuracy: 0.7591 - val_loss: 0.3414 - val_accuracy: 0.8750\n",
            "Epoch 2/10\n",
            "625/625 [==============================] - 12s 19ms/step - loss: 0.2712 - accuracy: 0.8978 - val_loss: 0.2818 - val_accuracy: 0.8925\n",
            "Epoch 3/10\n",
            "625/625 [==============================] - 7s 12ms/step - loss: 0.2127 - accuracy: 0.9216 - val_loss: 0.2725 - val_accuracy: 0.8947\n",
            "Epoch 4/10\n",
            "625/625 [==============================] - 5s 9ms/step - loss: 0.1775 - accuracy: 0.9359 - val_loss: 0.2845 - val_accuracy: 0.8949\n",
            "Epoch 5/10\n",
            "625/625 [==============================] - 5s 9ms/step - loss: 0.1513 - accuracy: 0.9456 - val_loss: 0.2948 - val_accuracy: 0.8923\n",
            "Epoch 6/10\n",
            "625/625 [==============================] - 5s 7ms/step - loss: 0.1300 - accuracy: 0.9559 - val_loss: 0.3138 - val_accuracy: 0.8894\n",
            "Epoch 7/10\n",
            "625/625 [==============================] - 3s 5ms/step - loss: 0.1121 - accuracy: 0.9625 - val_loss: 0.3457 - val_accuracy: 0.8841\n",
            "Epoch 8/10\n",
            "625/625 [==============================] - 4s 7ms/step - loss: 0.0974 - accuracy: 0.9691 - val_loss: 0.3636 - val_accuracy: 0.8844\n",
            "Epoch 9/10\n",
            "625/625 [==============================] - 3s 5ms/step - loss: 0.0848 - accuracy: 0.9735 - val_loss: 0.3984 - val_accuracy: 0.8821\n",
            "Epoch 10/10\n",
            "625/625 [==============================] - 3s 6ms/step - loss: 0.0722 - accuracy: 0.9778 - val_loss: 0.4297 - val_accuracy: 0.8726\n",
            "250/250 - 0s - loss: 0.4297 - accuracy: 0.8726 - 389ms/epoch - 2ms/step\n",
            "Test Loss:  0.42972105741500854\n",
            "Test Accuracy:  0.8726249933242798\n"
          ]
        }
      ]
    },
    {
      "cell_type": "markdown",
      "source": [
        "#Drop out regularization"
      ],
      "metadata": {
        "id": "9Vy-EaENWA5V"
      },
      "id": "9Vy-EaENWA5V"
    },
    {
      "cell_type": "code",
      "source": [
        "model_4  = tf.keras.Sequential([\n",
        "    tf.keras.layers.Embedding(vocab_size, embedding_dim, input_length=max_length),\n",
        "    tf.keras.layers.GlobalAveragePooling1D(),\n",
        "    tf.keras.layers.Dense(24, activation='relu'),\n",
        "    tf.keras.layers.Dropout(0.5),  # Dropout layer with 50% dropout rate\n",
        "    tf.keras.layers.Dense(1, activation='sigmoid')\n",
        "])\n",
        "# Compile the model\n",
        "model_4.compile(loss='binary_crossentropy',optimizer='adam',metrics=['accuracy'])\n",
        "\n",
        "# Train the model\n",
        "num_epochs = 10\n",
        "history = model_4.fit(train_padded, train_labels, epochs=num_epochs, validation_data=(test_padded, test_labels))\n",
        "# Evaluate the model\n",
        "results = model_4.evaluate(test_padded, test_labels, verbose=2)\n",
        "\n",
        "print(\"Test Loss: \", results[0])\n",
        "print(\"Test Accuracy: \", results[1])"
      ],
      "metadata": {
        "colab": {
          "base_uri": "https://localhost:8080/"
        },
        "id": "WWP5U9Heg6vt",
        "outputId": "238cf549-54ef-49b7-eecd-6a651c75188b"
      },
      "id": "WWP5U9Heg6vt",
      "execution_count": null,
      "outputs": [
        {
          "output_type": "stream",
          "name": "stdout",
          "text": [
            "Epoch 1/10\n",
            "625/625 [==============================] - 41s 63ms/step - loss: 0.5687 - accuracy: 0.7204 - val_loss: 0.3736 - val_accuracy: 0.8687\n",
            "Epoch 2/10\n",
            "625/625 [==============================] - 9s 15ms/step - loss: 0.3318 - accuracy: 0.8724 - val_loss: 0.2885 - val_accuracy: 0.8913\n",
            "Epoch 3/10\n",
            "625/625 [==============================] - 5s 8ms/step - loss: 0.2617 - accuracy: 0.9078 - val_loss: 0.2720 - val_accuracy: 0.8978\n",
            "Epoch 4/10\n",
            "625/625 [==============================] - 6s 9ms/step - loss: 0.2202 - accuracy: 0.9248 - val_loss: 0.2848 - val_accuracy: 0.8896\n",
            "Epoch 5/10\n",
            "625/625 [==============================] - 4s 6ms/step - loss: 0.1947 - accuracy: 0.9362 - val_loss: 0.2822 - val_accuracy: 0.8910\n",
            "Epoch 6/10\n",
            "625/625 [==============================] - 4s 6ms/step - loss: 0.1761 - accuracy: 0.9447 - val_loss: 0.2962 - val_accuracy: 0.8906\n",
            "Epoch 7/10\n",
            "625/625 [==============================] - 4s 7ms/step - loss: 0.1532 - accuracy: 0.9543 - val_loss: 0.3129 - val_accuracy: 0.8894\n",
            "Epoch 8/10\n",
            "625/625 [==============================] - 4s 6ms/step - loss: 0.1345 - accuracy: 0.9599 - val_loss: 0.3313 - val_accuracy: 0.8863\n",
            "Epoch 9/10\n",
            "625/625 [==============================] - 3s 5ms/step - loss: 0.1216 - accuracy: 0.9645 - val_loss: 0.3526 - val_accuracy: 0.8840\n",
            "Epoch 10/10\n",
            "625/625 [==============================] - 3s 6ms/step - loss: 0.1067 - accuracy: 0.9707 - val_loss: 0.3757 - val_accuracy: 0.8830\n",
            "250/250 - 1s - loss: 0.3757 - accuracy: 0.8830 - 609ms/epoch - 2ms/step\n",
            "Test Loss:  0.37569525837898254\n",
            "Test Accuracy:  0.8830000162124634\n"
          ]
        }
      ]
    },
    {
      "cell_type": "markdown",
      "source": [
        "#Try a different optimizer"
      ],
      "metadata": {
        "id": "sH60HUmycNEX"
      },
      "id": "sH60HUmycNEX"
    },
    {
      "cell_type": "code",
      "source": [
        "model_5  = tf.keras.Sequential([\n",
        "    tf.keras.layers.Embedding(vocab_size, embedding_dim, input_length=max_length),\n",
        "    tf.keras.layers.GlobalAveragePooling1D(),\n",
        "    tf.keras.layers.Dense(24, activation='relu'),\n",
        "    tf.keras.layers.Dense(1, activation='sigmoid')\n",
        "])\n",
        "# Initialize the optimizer\n",
        "optimizer = tf.keras.optimizers.RMSprop(learning_rate=0.001)\n",
        "# Compile the model\n",
        "model_5.compile(loss='binary_crossentropy',optimizer=optimizer,metrics=['accuracy'])\n",
        "\n",
        "# Train the model\n",
        "num_epochs = 10\n",
        "model_5.fit(train_padded, train_labels, epochs=num_epochs, validation_data=(test_padded, test_labels))"
      ],
      "metadata": {
        "colab": {
          "base_uri": "https://localhost:8080/"
        },
        "id": "XTfGp6lQWVqX",
        "outputId": "fa55ab4e-4773-471d-bfe1-7a962776c14a"
      },
      "id": "XTfGp6lQWVqX",
      "execution_count": null,
      "outputs": [
        {
          "output_type": "stream",
          "name": "stdout",
          "text": [
            "Epoch 1/10\n",
            "625/625 [==============================] - 38s 59ms/step - loss: 0.6410 - accuracy: 0.6589 - val_loss: 0.5309 - val_accuracy: 0.7694\n",
            "Epoch 2/10\n",
            "625/625 [==============================] - 10s 17ms/step - loss: 0.4136 - accuracy: 0.8332 - val_loss: 0.3562 - val_accuracy: 0.8612\n",
            "Epoch 3/10\n",
            "625/625 [==============================] - 5s 9ms/step - loss: 0.3010 - accuracy: 0.8807 - val_loss: 0.3045 - val_accuracy: 0.8825\n",
            "Epoch 4/10\n",
            "625/625 [==============================] - 6s 9ms/step - loss: 0.2599 - accuracy: 0.8986 - val_loss: 0.2903 - val_accuracy: 0.8859\n",
            "Epoch 5/10\n",
            "625/625 [==============================] - 4s 7ms/step - loss: 0.2356 - accuracy: 0.9105 - val_loss: 0.2827 - val_accuracy: 0.8910\n",
            "Epoch 6/10\n",
            "625/625 [==============================] - 5s 8ms/step - loss: 0.2196 - accuracy: 0.9186 - val_loss: 0.2842 - val_accuracy: 0.8938\n",
            "Epoch 7/10\n",
            "625/625 [==============================] - 3s 5ms/step - loss: 0.2075 - accuracy: 0.9233 - val_loss: 0.2842 - val_accuracy: 0.8938\n",
            "Epoch 8/10\n",
            "625/625 [==============================] - 3s 5ms/step - loss: 0.1976 - accuracy: 0.9285 - val_loss: 0.2874 - val_accuracy: 0.8895\n",
            "Epoch 9/10\n",
            "625/625 [==============================] - 3s 4ms/step - loss: 0.1904 - accuracy: 0.9316 - val_loss: 0.2834 - val_accuracy: 0.8917\n",
            "Epoch 10/10\n",
            "625/625 [==============================] - 4s 6ms/step - loss: 0.1831 - accuracy: 0.9339 - val_loss: 0.2885 - val_accuracy: 0.8920\n"
          ]
        },
        {
          "output_type": "execute_result",
          "data": {
            "text/plain": [
              "<keras.callbacks.History at 0x79c61a8fe6b0>"
            ]
          },
          "metadata": {},
          "execution_count": 16
        }
      ]
    },
    {
      "cell_type": "code",
      "source": [
        "# Evaluate the model\n",
        "results = model_5.evaluate(test_padded, test_labels, verbose=2)\n",
        "\n",
        "print(\"Test Loss: \", results[0])\n",
        "print(\"Test Accuracy: \", results[1])"
      ],
      "metadata": {
        "colab": {
          "base_uri": "https://localhost:8080/"
        },
        "id": "ny2QHM87WVnw",
        "outputId": "fa5e9d34-32fc-4dde-aac2-6c0dc71300a9"
      },
      "id": "ny2QHM87WVnw",
      "execution_count": null,
      "outputs": [
        {
          "output_type": "stream",
          "name": "stdout",
          "text": [
            "250/250 - 1s - loss: 0.2885 - accuracy: 0.8920 - 599ms/epoch - 2ms/step\n",
            "Test Loss:  0.2884712219238281\n",
            "Test Accuracy:  0.8920000195503235\n"
          ]
        }
      ]
    }
  ],
  "metadata": {
    "kernelspec": {
      "display_name": "Python 3",
      "name": "python3"
    },
    "language_info": {
      "codemirror_mode": {
        "name": "ipython",
        "version": 3
      },
      "file_extension": ".py",
      "mimetype": "text/x-python",
      "name": "python",
      "nbconvert_exporter": "python",
      "pygments_lexer": "ipython3",
      "version": "3.8.8"
    },
    "colab": {
      "provenance": [],
      "gpuType": "T4",
      "toc_visible": true
    },
    "accelerator": "GPU",
    "widgets": {
      "application/vnd.jupyter.widget-state+json": {
        "20c686fbef404a06ba5a0e3fe25389b6": {
          "model_module": "@jupyter-widgets/controls",
          "model_name": "HBoxModel",
          "model_module_version": "1.5.0",
          "state": {
            "_dom_classes": [],
            "_model_module": "@jupyter-widgets/controls",
            "_model_module_version": "1.5.0",
            "_model_name": "HBoxModel",
            "_view_count": null,
            "_view_module": "@jupyter-widgets/controls",
            "_view_module_version": "1.5.0",
            "_view_name": "HBoxView",
            "box_style": "",
            "children": [
              "IPY_MODEL_40a5147809e549bcaf68ef53c59b94b9",
              "IPY_MODEL_4d0d734f5088427590d08f63c92fd939",
              "IPY_MODEL_3aa5fc1f52ce41bdbd200e607dc029d4"
            ],
            "layout": "IPY_MODEL_35a6aaf755794b079962bf780e488284"
          }
        },
        "40a5147809e549bcaf68ef53c59b94b9": {
          "model_module": "@jupyter-widgets/controls",
          "model_name": "HTMLModel",
          "model_module_version": "1.5.0",
          "state": {
            "_dom_classes": [],
            "_model_module": "@jupyter-widgets/controls",
            "_model_module_version": "1.5.0",
            "_model_name": "HTMLModel",
            "_view_count": null,
            "_view_module": "@jupyter-widgets/controls",
            "_view_module_version": "1.5.0",
            "_view_name": "HTMLView",
            "description": "",
            "description_tooltip": null,
            "layout": "IPY_MODEL_8eb1753c8ad241fdb21646facfd55cec",
            "placeholder": "​",
            "style": "IPY_MODEL_d0ea3e2a118c4a52b0b545e9a22f4593",
            "value": "Dl Completed...: 100%"
          }
        },
        "4d0d734f5088427590d08f63c92fd939": {
          "model_module": "@jupyter-widgets/controls",
          "model_name": "FloatProgressModel",
          "model_module_version": "1.5.0",
          "state": {
            "_dom_classes": [],
            "_model_module": "@jupyter-widgets/controls",
            "_model_module_version": "1.5.0",
            "_model_name": "FloatProgressModel",
            "_view_count": null,
            "_view_module": "@jupyter-widgets/controls",
            "_view_module_version": "1.5.0",
            "_view_name": "ProgressView",
            "bar_style": "success",
            "description": "",
            "description_tooltip": null,
            "layout": "IPY_MODEL_44664c32ca5943c79ccc0d71a0eb7a36",
            "max": 1,
            "min": 0,
            "orientation": "horizontal",
            "style": "IPY_MODEL_0c6c552d7d21477aa6b3401e4af81e3a",
            "value": 1
          }
        },
        "3aa5fc1f52ce41bdbd200e607dc029d4": {
          "model_module": "@jupyter-widgets/controls",
          "model_name": "HTMLModel",
          "model_module_version": "1.5.0",
          "state": {
            "_dom_classes": [],
            "_model_module": "@jupyter-widgets/controls",
            "_model_module_version": "1.5.0",
            "_model_name": "HTMLModel",
            "_view_count": null,
            "_view_module": "@jupyter-widgets/controls",
            "_view_module_version": "1.5.0",
            "_view_name": "HTMLView",
            "description": "",
            "description_tooltip": null,
            "layout": "IPY_MODEL_fa9d04b711e24370a5799b3f1e95adeb",
            "placeholder": "​",
            "style": "IPY_MODEL_badad4ff55954dd8a94d39c8045ab55b",
            "value": " 1/1 [00:19&lt;00:00,  8.21s/ url]"
          }
        },
        "35a6aaf755794b079962bf780e488284": {
          "model_module": "@jupyter-widgets/base",
          "model_name": "LayoutModel",
          "model_module_version": "1.2.0",
          "state": {
            "_model_module": "@jupyter-widgets/base",
            "_model_module_version": "1.2.0",
            "_model_name": "LayoutModel",
            "_view_count": null,
            "_view_module": "@jupyter-widgets/base",
            "_view_module_version": "1.2.0",
            "_view_name": "LayoutView",
            "align_content": null,
            "align_items": null,
            "align_self": null,
            "border": null,
            "bottom": null,
            "display": null,
            "flex": null,
            "flex_flow": null,
            "grid_area": null,
            "grid_auto_columns": null,
            "grid_auto_flow": null,
            "grid_auto_rows": null,
            "grid_column": null,
            "grid_gap": null,
            "grid_row": null,
            "grid_template_areas": null,
            "grid_template_columns": null,
            "grid_template_rows": null,
            "height": null,
            "justify_content": null,
            "justify_items": null,
            "left": null,
            "margin": null,
            "max_height": null,
            "max_width": null,
            "min_height": null,
            "min_width": null,
            "object_fit": null,
            "object_position": null,
            "order": null,
            "overflow": null,
            "overflow_x": null,
            "overflow_y": null,
            "padding": null,
            "right": null,
            "top": null,
            "visibility": null,
            "width": null
          }
        },
        "8eb1753c8ad241fdb21646facfd55cec": {
          "model_module": "@jupyter-widgets/base",
          "model_name": "LayoutModel",
          "model_module_version": "1.2.0",
          "state": {
            "_model_module": "@jupyter-widgets/base",
            "_model_module_version": "1.2.0",
            "_model_name": "LayoutModel",
            "_view_count": null,
            "_view_module": "@jupyter-widgets/base",
            "_view_module_version": "1.2.0",
            "_view_name": "LayoutView",
            "align_content": null,
            "align_items": null,
            "align_self": null,
            "border": null,
            "bottom": null,
            "display": null,
            "flex": null,
            "flex_flow": null,
            "grid_area": null,
            "grid_auto_columns": null,
            "grid_auto_flow": null,
            "grid_auto_rows": null,
            "grid_column": null,
            "grid_gap": null,
            "grid_row": null,
            "grid_template_areas": null,
            "grid_template_columns": null,
            "grid_template_rows": null,
            "height": null,
            "justify_content": null,
            "justify_items": null,
            "left": null,
            "margin": null,
            "max_height": null,
            "max_width": null,
            "min_height": null,
            "min_width": null,
            "object_fit": null,
            "object_position": null,
            "order": null,
            "overflow": null,
            "overflow_x": null,
            "overflow_y": null,
            "padding": null,
            "right": null,
            "top": null,
            "visibility": null,
            "width": null
          }
        },
        "d0ea3e2a118c4a52b0b545e9a22f4593": {
          "model_module": "@jupyter-widgets/controls",
          "model_name": "DescriptionStyleModel",
          "model_module_version": "1.5.0",
          "state": {
            "_model_module": "@jupyter-widgets/controls",
            "_model_module_version": "1.5.0",
            "_model_name": "DescriptionStyleModel",
            "_view_count": null,
            "_view_module": "@jupyter-widgets/base",
            "_view_module_version": "1.2.0",
            "_view_name": "StyleView",
            "description_width": ""
          }
        },
        "44664c32ca5943c79ccc0d71a0eb7a36": {
          "model_module": "@jupyter-widgets/base",
          "model_name": "LayoutModel",
          "model_module_version": "1.2.0",
          "state": {
            "_model_module": "@jupyter-widgets/base",
            "_model_module_version": "1.2.0",
            "_model_name": "LayoutModel",
            "_view_count": null,
            "_view_module": "@jupyter-widgets/base",
            "_view_module_version": "1.2.0",
            "_view_name": "LayoutView",
            "align_content": null,
            "align_items": null,
            "align_self": null,
            "border": null,
            "bottom": null,
            "display": null,
            "flex": null,
            "flex_flow": null,
            "grid_area": null,
            "grid_auto_columns": null,
            "grid_auto_flow": null,
            "grid_auto_rows": null,
            "grid_column": null,
            "grid_gap": null,
            "grid_row": null,
            "grid_template_areas": null,
            "grid_template_columns": null,
            "grid_template_rows": null,
            "height": null,
            "justify_content": null,
            "justify_items": null,
            "left": null,
            "margin": null,
            "max_height": null,
            "max_width": null,
            "min_height": null,
            "min_width": null,
            "object_fit": null,
            "object_position": null,
            "order": null,
            "overflow": null,
            "overflow_x": null,
            "overflow_y": null,
            "padding": null,
            "right": null,
            "top": null,
            "visibility": null,
            "width": "20px"
          }
        },
        "0c6c552d7d21477aa6b3401e4af81e3a": {
          "model_module": "@jupyter-widgets/controls",
          "model_name": "ProgressStyleModel",
          "model_module_version": "1.5.0",
          "state": {
            "_model_module": "@jupyter-widgets/controls",
            "_model_module_version": "1.5.0",
            "_model_name": "ProgressStyleModel",
            "_view_count": null,
            "_view_module": "@jupyter-widgets/base",
            "_view_module_version": "1.2.0",
            "_view_name": "StyleView",
            "bar_color": null,
            "description_width": ""
          }
        },
        "fa9d04b711e24370a5799b3f1e95adeb": {
          "model_module": "@jupyter-widgets/base",
          "model_name": "LayoutModel",
          "model_module_version": "1.2.0",
          "state": {
            "_model_module": "@jupyter-widgets/base",
            "_model_module_version": "1.2.0",
            "_model_name": "LayoutModel",
            "_view_count": null,
            "_view_module": "@jupyter-widgets/base",
            "_view_module_version": "1.2.0",
            "_view_name": "LayoutView",
            "align_content": null,
            "align_items": null,
            "align_self": null,
            "border": null,
            "bottom": null,
            "display": null,
            "flex": null,
            "flex_flow": null,
            "grid_area": null,
            "grid_auto_columns": null,
            "grid_auto_flow": null,
            "grid_auto_rows": null,
            "grid_column": null,
            "grid_gap": null,
            "grid_row": null,
            "grid_template_areas": null,
            "grid_template_columns": null,
            "grid_template_rows": null,
            "height": null,
            "justify_content": null,
            "justify_items": null,
            "left": null,
            "margin": null,
            "max_height": null,
            "max_width": null,
            "min_height": null,
            "min_width": null,
            "object_fit": null,
            "object_position": null,
            "order": null,
            "overflow": null,
            "overflow_x": null,
            "overflow_y": null,
            "padding": null,
            "right": null,
            "top": null,
            "visibility": null,
            "width": null
          }
        },
        "badad4ff55954dd8a94d39c8045ab55b": {
          "model_module": "@jupyter-widgets/controls",
          "model_name": "DescriptionStyleModel",
          "model_module_version": "1.5.0",
          "state": {
            "_model_module": "@jupyter-widgets/controls",
            "_model_module_version": "1.5.0",
            "_model_name": "DescriptionStyleModel",
            "_view_count": null,
            "_view_module": "@jupyter-widgets/base",
            "_view_module_version": "1.2.0",
            "_view_name": "StyleView",
            "description_width": ""
          }
        },
        "54340686d4e147789759563105b22969": {
          "model_module": "@jupyter-widgets/controls",
          "model_name": "HBoxModel",
          "model_module_version": "1.5.0",
          "state": {
            "_dom_classes": [],
            "_model_module": "@jupyter-widgets/controls",
            "_model_module_version": "1.5.0",
            "_model_name": "HBoxModel",
            "_view_count": null,
            "_view_module": "@jupyter-widgets/controls",
            "_view_module_version": "1.5.0",
            "_view_name": "HBoxView",
            "box_style": "",
            "children": [
              "IPY_MODEL_b6205830485e42b5875c7610eef73004",
              "IPY_MODEL_4c67dae449f9474ba725c3657493ad9b",
              "IPY_MODEL_d951cfefaeb94074aa0284316874696a"
            ],
            "layout": "IPY_MODEL_d0791a6a5ba74494a18a11e933b24090"
          }
        },
        "b6205830485e42b5875c7610eef73004": {
          "model_module": "@jupyter-widgets/controls",
          "model_name": "HTMLModel",
          "model_module_version": "1.5.0",
          "state": {
            "_dom_classes": [],
            "_model_module": "@jupyter-widgets/controls",
            "_model_module_version": "1.5.0",
            "_model_name": "HTMLModel",
            "_view_count": null,
            "_view_module": "@jupyter-widgets/controls",
            "_view_module_version": "1.5.0",
            "_view_name": "HTMLView",
            "description": "",
            "description_tooltip": null,
            "layout": "IPY_MODEL_df20744b03614ce797bef3770942d8c8",
            "placeholder": "​",
            "style": "IPY_MODEL_20f44f03059d4bc483da260fd62e5d62",
            "value": "Dl Size...: 100%"
          }
        },
        "4c67dae449f9474ba725c3657493ad9b": {
          "model_module": "@jupyter-widgets/controls",
          "model_name": "FloatProgressModel",
          "model_module_version": "1.5.0",
          "state": {
            "_dom_classes": [],
            "_model_module": "@jupyter-widgets/controls",
            "_model_module_version": "1.5.0",
            "_model_name": "FloatProgressModel",
            "_view_count": null,
            "_view_module": "@jupyter-widgets/controls",
            "_view_module_version": "1.5.0",
            "_view_name": "ProgressView",
            "bar_style": "success",
            "description": "",
            "description_tooltip": null,
            "layout": "IPY_MODEL_87aa655d52a14cf7bf3aa84d30f985c5",
            "max": 1,
            "min": 0,
            "orientation": "horizontal",
            "style": "IPY_MODEL_ba61f7f83cd248f08a937933d718b718",
            "value": 1
          }
        },
        "d951cfefaeb94074aa0284316874696a": {
          "model_module": "@jupyter-widgets/controls",
          "model_name": "HTMLModel",
          "model_module_version": "1.5.0",
          "state": {
            "_dom_classes": [],
            "_model_module": "@jupyter-widgets/controls",
            "_model_module_version": "1.5.0",
            "_model_name": "HTMLModel",
            "_view_count": null,
            "_view_module": "@jupyter-widgets/controls",
            "_view_module_version": "1.5.0",
            "_view_name": "HTMLView",
            "description": "",
            "description_tooltip": null,
            "layout": "IPY_MODEL_0fd6b2ac4c8e484eb77c19a581ce336e",
            "placeholder": "​",
            "style": "IPY_MODEL_f9d21e5936114f029a611e692acd6fce",
            "value": " 158/158 [00:19&lt;00:00, 12.95 MiB/s]"
          }
        },
        "d0791a6a5ba74494a18a11e933b24090": {
          "model_module": "@jupyter-widgets/base",
          "model_name": "LayoutModel",
          "model_module_version": "1.2.0",
          "state": {
            "_model_module": "@jupyter-widgets/base",
            "_model_module_version": "1.2.0",
            "_model_name": "LayoutModel",
            "_view_count": null,
            "_view_module": "@jupyter-widgets/base",
            "_view_module_version": "1.2.0",
            "_view_name": "LayoutView",
            "align_content": null,
            "align_items": null,
            "align_self": null,
            "border": null,
            "bottom": null,
            "display": null,
            "flex": null,
            "flex_flow": null,
            "grid_area": null,
            "grid_auto_columns": null,
            "grid_auto_flow": null,
            "grid_auto_rows": null,
            "grid_column": null,
            "grid_gap": null,
            "grid_row": null,
            "grid_template_areas": null,
            "grid_template_columns": null,
            "grid_template_rows": null,
            "height": null,
            "justify_content": null,
            "justify_items": null,
            "left": null,
            "margin": null,
            "max_height": null,
            "max_width": null,
            "min_height": null,
            "min_width": null,
            "object_fit": null,
            "object_position": null,
            "order": null,
            "overflow": null,
            "overflow_x": null,
            "overflow_y": null,
            "padding": null,
            "right": null,
            "top": null,
            "visibility": null,
            "width": null
          }
        },
        "df20744b03614ce797bef3770942d8c8": {
          "model_module": "@jupyter-widgets/base",
          "model_name": "LayoutModel",
          "model_module_version": "1.2.0",
          "state": {
            "_model_module": "@jupyter-widgets/base",
            "_model_module_version": "1.2.0",
            "_model_name": "LayoutModel",
            "_view_count": null,
            "_view_module": "@jupyter-widgets/base",
            "_view_module_version": "1.2.0",
            "_view_name": "LayoutView",
            "align_content": null,
            "align_items": null,
            "align_self": null,
            "border": null,
            "bottom": null,
            "display": null,
            "flex": null,
            "flex_flow": null,
            "grid_area": null,
            "grid_auto_columns": null,
            "grid_auto_flow": null,
            "grid_auto_rows": null,
            "grid_column": null,
            "grid_gap": null,
            "grid_row": null,
            "grid_template_areas": null,
            "grid_template_columns": null,
            "grid_template_rows": null,
            "height": null,
            "justify_content": null,
            "justify_items": null,
            "left": null,
            "margin": null,
            "max_height": null,
            "max_width": null,
            "min_height": null,
            "min_width": null,
            "object_fit": null,
            "object_position": null,
            "order": null,
            "overflow": null,
            "overflow_x": null,
            "overflow_y": null,
            "padding": null,
            "right": null,
            "top": null,
            "visibility": null,
            "width": null
          }
        },
        "20f44f03059d4bc483da260fd62e5d62": {
          "model_module": "@jupyter-widgets/controls",
          "model_name": "DescriptionStyleModel",
          "model_module_version": "1.5.0",
          "state": {
            "_model_module": "@jupyter-widgets/controls",
            "_model_module_version": "1.5.0",
            "_model_name": "DescriptionStyleModel",
            "_view_count": null,
            "_view_module": "@jupyter-widgets/base",
            "_view_module_version": "1.2.0",
            "_view_name": "StyleView",
            "description_width": ""
          }
        },
        "87aa655d52a14cf7bf3aa84d30f985c5": {
          "model_module": "@jupyter-widgets/base",
          "model_name": "LayoutModel",
          "model_module_version": "1.2.0",
          "state": {
            "_model_module": "@jupyter-widgets/base",
            "_model_module_version": "1.2.0",
            "_model_name": "LayoutModel",
            "_view_count": null,
            "_view_module": "@jupyter-widgets/base",
            "_view_module_version": "1.2.0",
            "_view_name": "LayoutView",
            "align_content": null,
            "align_items": null,
            "align_self": null,
            "border": null,
            "bottom": null,
            "display": null,
            "flex": null,
            "flex_flow": null,
            "grid_area": null,
            "grid_auto_columns": null,
            "grid_auto_flow": null,
            "grid_auto_rows": null,
            "grid_column": null,
            "grid_gap": null,
            "grid_row": null,
            "grid_template_areas": null,
            "grid_template_columns": null,
            "grid_template_rows": null,
            "height": null,
            "justify_content": null,
            "justify_items": null,
            "left": null,
            "margin": null,
            "max_height": null,
            "max_width": null,
            "min_height": null,
            "min_width": null,
            "object_fit": null,
            "object_position": null,
            "order": null,
            "overflow": null,
            "overflow_x": null,
            "overflow_y": null,
            "padding": null,
            "right": null,
            "top": null,
            "visibility": null,
            "width": "20px"
          }
        },
        "ba61f7f83cd248f08a937933d718b718": {
          "model_module": "@jupyter-widgets/controls",
          "model_name": "ProgressStyleModel",
          "model_module_version": "1.5.0",
          "state": {
            "_model_module": "@jupyter-widgets/controls",
            "_model_module_version": "1.5.0",
            "_model_name": "ProgressStyleModel",
            "_view_count": null,
            "_view_module": "@jupyter-widgets/base",
            "_view_module_version": "1.2.0",
            "_view_name": "StyleView",
            "bar_color": null,
            "description_width": ""
          }
        },
        "0fd6b2ac4c8e484eb77c19a581ce336e": {
          "model_module": "@jupyter-widgets/base",
          "model_name": "LayoutModel",
          "model_module_version": "1.2.0",
          "state": {
            "_model_module": "@jupyter-widgets/base",
            "_model_module_version": "1.2.0",
            "_model_name": "LayoutModel",
            "_view_count": null,
            "_view_module": "@jupyter-widgets/base",
            "_view_module_version": "1.2.0",
            "_view_name": "LayoutView",
            "align_content": null,
            "align_items": null,
            "align_self": null,
            "border": null,
            "bottom": null,
            "display": null,
            "flex": null,
            "flex_flow": null,
            "grid_area": null,
            "grid_auto_columns": null,
            "grid_auto_flow": null,
            "grid_auto_rows": null,
            "grid_column": null,
            "grid_gap": null,
            "grid_row": null,
            "grid_template_areas": null,
            "grid_template_columns": null,
            "grid_template_rows": null,
            "height": null,
            "justify_content": null,
            "justify_items": null,
            "left": null,
            "margin": null,
            "max_height": null,
            "max_width": null,
            "min_height": null,
            "min_width": null,
            "object_fit": null,
            "object_position": null,
            "order": null,
            "overflow": null,
            "overflow_x": null,
            "overflow_y": null,
            "padding": null,
            "right": null,
            "top": null,
            "visibility": null,
            "width": null
          }
        },
        "f9d21e5936114f029a611e692acd6fce": {
          "model_module": "@jupyter-widgets/controls",
          "model_name": "DescriptionStyleModel",
          "model_module_version": "1.5.0",
          "state": {
            "_model_module": "@jupyter-widgets/controls",
            "_model_module_version": "1.5.0",
            "_model_name": "DescriptionStyleModel",
            "_view_count": null,
            "_view_module": "@jupyter-widgets/base",
            "_view_module_version": "1.2.0",
            "_view_name": "StyleView",
            "description_width": ""
          }
        },
        "10a45bfa5790430b9e3896dc7fa92426": {
          "model_module": "@jupyter-widgets/controls",
          "model_name": "HBoxModel",
          "model_module_version": "1.5.0",
          "state": {
            "_dom_classes": [],
            "_model_module": "@jupyter-widgets/controls",
            "_model_module_version": "1.5.0",
            "_model_name": "HBoxModel",
            "_view_count": null,
            "_view_module": "@jupyter-widgets/controls",
            "_view_module_version": "1.5.0",
            "_view_name": "HBoxView",
            "box_style": "",
            "children": [
              "IPY_MODEL_f8c1514f956f464dbe06210e8004cdce",
              "IPY_MODEL_06d1a1d5854449a9840cfffd8fb5e0c9",
              "IPY_MODEL_372baa124ef342b5a3115aee32624320"
            ],
            "layout": "IPY_MODEL_8a9ddafc533d44638981f03ad9b90c04"
          }
        },
        "f8c1514f956f464dbe06210e8004cdce": {
          "model_module": "@jupyter-widgets/controls",
          "model_name": "HTMLModel",
          "model_module_version": "1.5.0",
          "state": {
            "_dom_classes": [],
            "_model_module": "@jupyter-widgets/controls",
            "_model_module_version": "1.5.0",
            "_model_name": "HTMLModel",
            "_view_count": null,
            "_view_module": "@jupyter-widgets/controls",
            "_view_module_version": "1.5.0",
            "_view_name": "HTMLView",
            "description": "",
            "description_tooltip": null,
            "layout": "IPY_MODEL_58f64dbb7b1a4c5187505b382a195ea2",
            "placeholder": "​",
            "style": "IPY_MODEL_7ad6ca3193d7484cacc6c2fa7b453749",
            "value": "Extraction completed...: 100%"
          }
        },
        "06d1a1d5854449a9840cfffd8fb5e0c9": {
          "model_module": "@jupyter-widgets/controls",
          "model_name": "FloatProgressModel",
          "model_module_version": "1.5.0",
          "state": {
            "_dom_classes": [],
            "_model_module": "@jupyter-widgets/controls",
            "_model_module_version": "1.5.0",
            "_model_name": "FloatProgressModel",
            "_view_count": null,
            "_view_module": "@jupyter-widgets/controls",
            "_view_module_version": "1.5.0",
            "_view_name": "ProgressView",
            "bar_style": "success",
            "description": "",
            "description_tooltip": null,
            "layout": "IPY_MODEL_6ca3a5f714ec4ae79157a44e7eb3d02e",
            "max": 1,
            "min": 0,
            "orientation": "horizontal",
            "style": "IPY_MODEL_0bd800c9bdec49b5b77410b48bfab627",
            "value": 1
          }
        },
        "372baa124ef342b5a3115aee32624320": {
          "model_module": "@jupyter-widgets/controls",
          "model_name": "HTMLModel",
          "model_module_version": "1.5.0",
          "state": {
            "_dom_classes": [],
            "_model_module": "@jupyter-widgets/controls",
            "_model_module_version": "1.5.0",
            "_model_name": "HTMLModel",
            "_view_count": null,
            "_view_module": "@jupyter-widgets/controls",
            "_view_module_version": "1.5.0",
            "_view_name": "HTMLView",
            "description": "",
            "description_tooltip": null,
            "layout": "IPY_MODEL_6bb2e9d68f614a10b9b6bb94315c6eb4",
            "placeholder": "​",
            "style": "IPY_MODEL_10920af1f74f4490a60879f6a679a1fc",
            "value": " 3/3 [00:19&lt;00:00, 19.39s/ file]"
          }
        },
        "8a9ddafc533d44638981f03ad9b90c04": {
          "model_module": "@jupyter-widgets/base",
          "model_name": "LayoutModel",
          "model_module_version": "1.2.0",
          "state": {
            "_model_module": "@jupyter-widgets/base",
            "_model_module_version": "1.2.0",
            "_model_name": "LayoutModel",
            "_view_count": null,
            "_view_module": "@jupyter-widgets/base",
            "_view_module_version": "1.2.0",
            "_view_name": "LayoutView",
            "align_content": null,
            "align_items": null,
            "align_self": null,
            "border": null,
            "bottom": null,
            "display": null,
            "flex": null,
            "flex_flow": null,
            "grid_area": null,
            "grid_auto_columns": null,
            "grid_auto_flow": null,
            "grid_auto_rows": null,
            "grid_column": null,
            "grid_gap": null,
            "grid_row": null,
            "grid_template_areas": null,
            "grid_template_columns": null,
            "grid_template_rows": null,
            "height": null,
            "justify_content": null,
            "justify_items": null,
            "left": null,
            "margin": null,
            "max_height": null,
            "max_width": null,
            "min_height": null,
            "min_width": null,
            "object_fit": null,
            "object_position": null,
            "order": null,
            "overflow": null,
            "overflow_x": null,
            "overflow_y": null,
            "padding": null,
            "right": null,
            "top": null,
            "visibility": null,
            "width": null
          }
        },
        "58f64dbb7b1a4c5187505b382a195ea2": {
          "model_module": "@jupyter-widgets/base",
          "model_name": "LayoutModel",
          "model_module_version": "1.2.0",
          "state": {
            "_model_module": "@jupyter-widgets/base",
            "_model_module_version": "1.2.0",
            "_model_name": "LayoutModel",
            "_view_count": null,
            "_view_module": "@jupyter-widgets/base",
            "_view_module_version": "1.2.0",
            "_view_name": "LayoutView",
            "align_content": null,
            "align_items": null,
            "align_self": null,
            "border": null,
            "bottom": null,
            "display": null,
            "flex": null,
            "flex_flow": null,
            "grid_area": null,
            "grid_auto_columns": null,
            "grid_auto_flow": null,
            "grid_auto_rows": null,
            "grid_column": null,
            "grid_gap": null,
            "grid_row": null,
            "grid_template_areas": null,
            "grid_template_columns": null,
            "grid_template_rows": null,
            "height": null,
            "justify_content": null,
            "justify_items": null,
            "left": null,
            "margin": null,
            "max_height": null,
            "max_width": null,
            "min_height": null,
            "min_width": null,
            "object_fit": null,
            "object_position": null,
            "order": null,
            "overflow": null,
            "overflow_x": null,
            "overflow_y": null,
            "padding": null,
            "right": null,
            "top": null,
            "visibility": null,
            "width": null
          }
        },
        "7ad6ca3193d7484cacc6c2fa7b453749": {
          "model_module": "@jupyter-widgets/controls",
          "model_name": "DescriptionStyleModel",
          "model_module_version": "1.5.0",
          "state": {
            "_model_module": "@jupyter-widgets/controls",
            "_model_module_version": "1.5.0",
            "_model_name": "DescriptionStyleModel",
            "_view_count": null,
            "_view_module": "@jupyter-widgets/base",
            "_view_module_version": "1.2.0",
            "_view_name": "StyleView",
            "description_width": ""
          }
        },
        "6ca3a5f714ec4ae79157a44e7eb3d02e": {
          "model_module": "@jupyter-widgets/base",
          "model_name": "LayoutModel",
          "model_module_version": "1.2.0",
          "state": {
            "_model_module": "@jupyter-widgets/base",
            "_model_module_version": "1.2.0",
            "_model_name": "LayoutModel",
            "_view_count": null,
            "_view_module": "@jupyter-widgets/base",
            "_view_module_version": "1.2.0",
            "_view_name": "LayoutView",
            "align_content": null,
            "align_items": null,
            "align_self": null,
            "border": null,
            "bottom": null,
            "display": null,
            "flex": null,
            "flex_flow": null,
            "grid_area": null,
            "grid_auto_columns": null,
            "grid_auto_flow": null,
            "grid_auto_rows": null,
            "grid_column": null,
            "grid_gap": null,
            "grid_row": null,
            "grid_template_areas": null,
            "grid_template_columns": null,
            "grid_template_rows": null,
            "height": null,
            "justify_content": null,
            "justify_items": null,
            "left": null,
            "margin": null,
            "max_height": null,
            "max_width": null,
            "min_height": null,
            "min_width": null,
            "object_fit": null,
            "object_position": null,
            "order": null,
            "overflow": null,
            "overflow_x": null,
            "overflow_y": null,
            "padding": null,
            "right": null,
            "top": null,
            "visibility": null,
            "width": "20px"
          }
        },
        "0bd800c9bdec49b5b77410b48bfab627": {
          "model_module": "@jupyter-widgets/controls",
          "model_name": "ProgressStyleModel",
          "model_module_version": "1.5.0",
          "state": {
            "_model_module": "@jupyter-widgets/controls",
            "_model_module_version": "1.5.0",
            "_model_name": "ProgressStyleModel",
            "_view_count": null,
            "_view_module": "@jupyter-widgets/base",
            "_view_module_version": "1.2.0",
            "_view_name": "StyleView",
            "bar_color": null,
            "description_width": ""
          }
        },
        "6bb2e9d68f614a10b9b6bb94315c6eb4": {
          "model_module": "@jupyter-widgets/base",
          "model_name": "LayoutModel",
          "model_module_version": "1.2.0",
          "state": {
            "_model_module": "@jupyter-widgets/base",
            "_model_module_version": "1.2.0",
            "_model_name": "LayoutModel",
            "_view_count": null,
            "_view_module": "@jupyter-widgets/base",
            "_view_module_version": "1.2.0",
            "_view_name": "LayoutView",
            "align_content": null,
            "align_items": null,
            "align_self": null,
            "border": null,
            "bottom": null,
            "display": null,
            "flex": null,
            "flex_flow": null,
            "grid_area": null,
            "grid_auto_columns": null,
            "grid_auto_flow": null,
            "grid_auto_rows": null,
            "grid_column": null,
            "grid_gap": null,
            "grid_row": null,
            "grid_template_areas": null,
            "grid_template_columns": null,
            "grid_template_rows": null,
            "height": null,
            "justify_content": null,
            "justify_items": null,
            "left": null,
            "margin": null,
            "max_height": null,
            "max_width": null,
            "min_height": null,
            "min_width": null,
            "object_fit": null,
            "object_position": null,
            "order": null,
            "overflow": null,
            "overflow_x": null,
            "overflow_y": null,
            "padding": null,
            "right": null,
            "top": null,
            "visibility": null,
            "width": null
          }
        },
        "10920af1f74f4490a60879f6a679a1fc": {
          "model_module": "@jupyter-widgets/controls",
          "model_name": "DescriptionStyleModel",
          "model_module_version": "1.5.0",
          "state": {
            "_model_module": "@jupyter-widgets/controls",
            "_model_module_version": "1.5.0",
            "_model_name": "DescriptionStyleModel",
            "_view_count": null,
            "_view_module": "@jupyter-widgets/base",
            "_view_module_version": "1.2.0",
            "_view_name": "StyleView",
            "description_width": ""
          }
        },
        "a51b4c0d14a64a8d971c78e8234445b6": {
          "model_module": "@jupyter-widgets/controls",
          "model_name": "HBoxModel",
          "model_module_version": "1.5.0",
          "state": {
            "_dom_classes": [],
            "_model_module": "@jupyter-widgets/controls",
            "_model_module_version": "1.5.0",
            "_model_name": "HBoxModel",
            "_view_count": null,
            "_view_module": "@jupyter-widgets/controls",
            "_view_module_version": "1.5.0",
            "_view_name": "HBoxView",
            "box_style": "",
            "children": [
              "IPY_MODEL_cd4724d4eb10468382e4250406aa47ea",
              "IPY_MODEL_8ef0de1910ab46eba54b5a7864b1b191",
              "IPY_MODEL_d748a07c090243c99d106384c653ccd5"
            ],
            "layout": "IPY_MODEL_e3f96769fa5c44bfb8e1e1c6eb84f682"
          }
        },
        "cd4724d4eb10468382e4250406aa47ea": {
          "model_module": "@jupyter-widgets/controls",
          "model_name": "HTMLModel",
          "model_module_version": "1.5.0",
          "state": {
            "_dom_classes": [],
            "_model_module": "@jupyter-widgets/controls",
            "_model_module_version": "1.5.0",
            "_model_name": "HTMLModel",
            "_view_count": null,
            "_view_module": "@jupyter-widgets/controls",
            "_view_module_version": "1.5.0",
            "_view_name": "HTMLView",
            "description": "",
            "description_tooltip": null,
            "layout": "IPY_MODEL_4dd6a7fec3d84bf0aa2fc63c04d9cbce",
            "placeholder": "​",
            "style": "IPY_MODEL_9f9659f3b8c24e56b1a78bd5aab749cd",
            "value": "Generating splits...: 100%"
          }
        },
        "8ef0de1910ab46eba54b5a7864b1b191": {
          "model_module": "@jupyter-widgets/controls",
          "model_name": "FloatProgressModel",
          "model_module_version": "1.5.0",
          "state": {
            "_dom_classes": [],
            "_model_module": "@jupyter-widgets/controls",
            "_model_module_version": "1.5.0",
            "_model_name": "FloatProgressModel",
            "_view_count": null,
            "_view_module": "@jupyter-widgets/controls",
            "_view_module_version": "1.5.0",
            "_view_name": "ProgressView",
            "bar_style": "",
            "description": "",
            "description_tooltip": null,
            "layout": "IPY_MODEL_8b0176ae7e0a43309a58174fc5f8b63b",
            "max": 2,
            "min": 0,
            "orientation": "horizontal",
            "style": "IPY_MODEL_218faac3647c428dabf334510545ad2c",
            "value": 2
          }
        },
        "d748a07c090243c99d106384c653ccd5": {
          "model_module": "@jupyter-widgets/controls",
          "model_name": "HTMLModel",
          "model_module_version": "1.5.0",
          "state": {
            "_dom_classes": [],
            "_model_module": "@jupyter-widgets/controls",
            "_model_module_version": "1.5.0",
            "_model_name": "HTMLModel",
            "_view_count": null,
            "_view_module": "@jupyter-widgets/controls",
            "_view_module_version": "1.5.0",
            "_view_name": "HTMLView",
            "description": "",
            "description_tooltip": null,
            "layout": "IPY_MODEL_8efbf5d599be4df697a50ab75200038b",
            "placeholder": "​",
            "style": "IPY_MODEL_fd1e88b36ae24bc28ebffe7111ecf38e",
            "value": " 2/2 [01:16&lt;00:00, 32.10s/ splits]"
          }
        },
        "e3f96769fa5c44bfb8e1e1c6eb84f682": {
          "model_module": "@jupyter-widgets/base",
          "model_name": "LayoutModel",
          "model_module_version": "1.2.0",
          "state": {
            "_model_module": "@jupyter-widgets/base",
            "_model_module_version": "1.2.0",
            "_model_name": "LayoutModel",
            "_view_count": null,
            "_view_module": "@jupyter-widgets/base",
            "_view_module_version": "1.2.0",
            "_view_name": "LayoutView",
            "align_content": null,
            "align_items": null,
            "align_self": null,
            "border": null,
            "bottom": null,
            "display": null,
            "flex": null,
            "flex_flow": null,
            "grid_area": null,
            "grid_auto_columns": null,
            "grid_auto_flow": null,
            "grid_auto_rows": null,
            "grid_column": null,
            "grid_gap": null,
            "grid_row": null,
            "grid_template_areas": null,
            "grid_template_columns": null,
            "grid_template_rows": null,
            "height": null,
            "justify_content": null,
            "justify_items": null,
            "left": null,
            "margin": null,
            "max_height": null,
            "max_width": null,
            "min_height": null,
            "min_width": null,
            "object_fit": null,
            "object_position": null,
            "order": null,
            "overflow": null,
            "overflow_x": null,
            "overflow_y": null,
            "padding": null,
            "right": null,
            "top": null,
            "visibility": "hidden",
            "width": null
          }
        },
        "4dd6a7fec3d84bf0aa2fc63c04d9cbce": {
          "model_module": "@jupyter-widgets/base",
          "model_name": "LayoutModel",
          "model_module_version": "1.2.0",
          "state": {
            "_model_module": "@jupyter-widgets/base",
            "_model_module_version": "1.2.0",
            "_model_name": "LayoutModel",
            "_view_count": null,
            "_view_module": "@jupyter-widgets/base",
            "_view_module_version": "1.2.0",
            "_view_name": "LayoutView",
            "align_content": null,
            "align_items": null,
            "align_self": null,
            "border": null,
            "bottom": null,
            "display": null,
            "flex": null,
            "flex_flow": null,
            "grid_area": null,
            "grid_auto_columns": null,
            "grid_auto_flow": null,
            "grid_auto_rows": null,
            "grid_column": null,
            "grid_gap": null,
            "grid_row": null,
            "grid_template_areas": null,
            "grid_template_columns": null,
            "grid_template_rows": null,
            "height": null,
            "justify_content": null,
            "justify_items": null,
            "left": null,
            "margin": null,
            "max_height": null,
            "max_width": null,
            "min_height": null,
            "min_width": null,
            "object_fit": null,
            "object_position": null,
            "order": null,
            "overflow": null,
            "overflow_x": null,
            "overflow_y": null,
            "padding": null,
            "right": null,
            "top": null,
            "visibility": null,
            "width": null
          }
        },
        "9f9659f3b8c24e56b1a78bd5aab749cd": {
          "model_module": "@jupyter-widgets/controls",
          "model_name": "DescriptionStyleModel",
          "model_module_version": "1.5.0",
          "state": {
            "_model_module": "@jupyter-widgets/controls",
            "_model_module_version": "1.5.0",
            "_model_name": "DescriptionStyleModel",
            "_view_count": null,
            "_view_module": "@jupyter-widgets/base",
            "_view_module_version": "1.2.0",
            "_view_name": "StyleView",
            "description_width": ""
          }
        },
        "8b0176ae7e0a43309a58174fc5f8b63b": {
          "model_module": "@jupyter-widgets/base",
          "model_name": "LayoutModel",
          "model_module_version": "1.2.0",
          "state": {
            "_model_module": "@jupyter-widgets/base",
            "_model_module_version": "1.2.0",
            "_model_name": "LayoutModel",
            "_view_count": null,
            "_view_module": "@jupyter-widgets/base",
            "_view_module_version": "1.2.0",
            "_view_name": "LayoutView",
            "align_content": null,
            "align_items": null,
            "align_self": null,
            "border": null,
            "bottom": null,
            "display": null,
            "flex": null,
            "flex_flow": null,
            "grid_area": null,
            "grid_auto_columns": null,
            "grid_auto_flow": null,
            "grid_auto_rows": null,
            "grid_column": null,
            "grid_gap": null,
            "grid_row": null,
            "grid_template_areas": null,
            "grid_template_columns": null,
            "grid_template_rows": null,
            "height": null,
            "justify_content": null,
            "justify_items": null,
            "left": null,
            "margin": null,
            "max_height": null,
            "max_width": null,
            "min_height": null,
            "min_width": null,
            "object_fit": null,
            "object_position": null,
            "order": null,
            "overflow": null,
            "overflow_x": null,
            "overflow_y": null,
            "padding": null,
            "right": null,
            "top": null,
            "visibility": null,
            "width": null
          }
        },
        "218faac3647c428dabf334510545ad2c": {
          "model_module": "@jupyter-widgets/controls",
          "model_name": "ProgressStyleModel",
          "model_module_version": "1.5.0",
          "state": {
            "_model_module": "@jupyter-widgets/controls",
            "_model_module_version": "1.5.0",
            "_model_name": "ProgressStyleModel",
            "_view_count": null,
            "_view_module": "@jupyter-widgets/base",
            "_view_module_version": "1.2.0",
            "_view_name": "StyleView",
            "bar_color": null,
            "description_width": ""
          }
        },
        "8efbf5d599be4df697a50ab75200038b": {
          "model_module": "@jupyter-widgets/base",
          "model_name": "LayoutModel",
          "model_module_version": "1.2.0",
          "state": {
            "_model_module": "@jupyter-widgets/base",
            "_model_module_version": "1.2.0",
            "_model_name": "LayoutModel",
            "_view_count": null,
            "_view_module": "@jupyter-widgets/base",
            "_view_module_version": "1.2.0",
            "_view_name": "LayoutView",
            "align_content": null,
            "align_items": null,
            "align_self": null,
            "border": null,
            "bottom": null,
            "display": null,
            "flex": null,
            "flex_flow": null,
            "grid_area": null,
            "grid_auto_columns": null,
            "grid_auto_flow": null,
            "grid_auto_rows": null,
            "grid_column": null,
            "grid_gap": null,
            "grid_row": null,
            "grid_template_areas": null,
            "grid_template_columns": null,
            "grid_template_rows": null,
            "height": null,
            "justify_content": null,
            "justify_items": null,
            "left": null,
            "margin": null,
            "max_height": null,
            "max_width": null,
            "min_height": null,
            "min_width": null,
            "object_fit": null,
            "object_position": null,
            "order": null,
            "overflow": null,
            "overflow_x": null,
            "overflow_y": null,
            "padding": null,
            "right": null,
            "top": null,
            "visibility": null,
            "width": null
          }
        },
        "fd1e88b36ae24bc28ebffe7111ecf38e": {
          "model_module": "@jupyter-widgets/controls",
          "model_name": "DescriptionStyleModel",
          "model_module_version": "1.5.0",
          "state": {
            "_model_module": "@jupyter-widgets/controls",
            "_model_module_version": "1.5.0",
            "_model_name": "DescriptionStyleModel",
            "_view_count": null,
            "_view_module": "@jupyter-widgets/base",
            "_view_module_version": "1.2.0",
            "_view_name": "StyleView",
            "description_width": ""
          }
        },
        "74e9583205524947aee70dbcb59c2e82": {
          "model_module": "@jupyter-widgets/controls",
          "model_name": "HBoxModel",
          "model_module_version": "1.5.0",
          "state": {
            "_dom_classes": [],
            "_model_module": "@jupyter-widgets/controls",
            "_model_module_version": "1.5.0",
            "_model_name": "HBoxModel",
            "_view_count": null,
            "_view_module": "@jupyter-widgets/controls",
            "_view_module_version": "1.5.0",
            "_view_name": "HBoxView",
            "box_style": "",
            "children": [
              "IPY_MODEL_d63c996d2682439b89ca40b4f24153b1",
              "IPY_MODEL_8b19d35e692644e6994d194200463d8f",
              "IPY_MODEL_02e44c74cf4e48a5b0dde3fcc52a6f3e"
            ],
            "layout": "IPY_MODEL_1c4c24353c464d8186ee27d2f633427b"
          }
        },
        "d63c996d2682439b89ca40b4f24153b1": {
          "model_module": "@jupyter-widgets/controls",
          "model_name": "HTMLModel",
          "model_module_version": "1.5.0",
          "state": {
            "_dom_classes": [],
            "_model_module": "@jupyter-widgets/controls",
            "_model_module_version": "1.5.0",
            "_model_name": "HTMLModel",
            "_view_count": null,
            "_view_module": "@jupyter-widgets/controls",
            "_view_module_version": "1.5.0",
            "_view_name": "HTMLView",
            "description": "",
            "description_tooltip": null,
            "layout": "IPY_MODEL_f7b9079aca934301a05f87c1564b43c0",
            "placeholder": "​",
            "style": "IPY_MODEL_e0e639acdcea46208debb9cf755c41fe",
            "value": "Generating train examples...: 100%"
          }
        },
        "8b19d35e692644e6994d194200463d8f": {
          "model_module": "@jupyter-widgets/controls",
          "model_name": "FloatProgressModel",
          "model_module_version": "1.5.0",
          "state": {
            "_dom_classes": [],
            "_model_module": "@jupyter-widgets/controls",
            "_model_module_version": "1.5.0",
            "_model_name": "FloatProgressModel",
            "_view_count": null,
            "_view_module": "@jupyter-widgets/controls",
            "_view_module_version": "1.5.0",
            "_view_name": "ProgressView",
            "bar_style": "",
            "description": "",
            "description_tooltip": null,
            "layout": "IPY_MODEL_806a1abd80d9406c905ce503b7cf33ee",
            "max": 560000,
            "min": 0,
            "orientation": "horizontal",
            "style": "IPY_MODEL_c04f5f68aafb4cb4ab5dde6100d2919a",
            "value": 560000
          }
        },
        "02e44c74cf4e48a5b0dde3fcc52a6f3e": {
          "model_module": "@jupyter-widgets/controls",
          "model_name": "HTMLModel",
          "model_module_version": "1.5.0",
          "state": {
            "_dom_classes": [],
            "_model_module": "@jupyter-widgets/controls",
            "_model_module_version": "1.5.0",
            "_model_name": "HTMLModel",
            "_view_count": null,
            "_view_module": "@jupyter-widgets/controls",
            "_view_module_version": "1.5.0",
            "_view_name": "HTMLView",
            "description": "",
            "description_tooltip": null,
            "layout": "IPY_MODEL_87f864388ecb45438278edf3c5b4f5dd",
            "placeholder": "​",
            "style": "IPY_MODEL_9039b165c5214594ab52cc0283d782ef",
            "value": " 559887/560000 [01:10&lt;00:00, 12943.73 examples/s]"
          }
        },
        "1c4c24353c464d8186ee27d2f633427b": {
          "model_module": "@jupyter-widgets/base",
          "model_name": "LayoutModel",
          "model_module_version": "1.2.0",
          "state": {
            "_model_module": "@jupyter-widgets/base",
            "_model_module_version": "1.2.0",
            "_model_name": "LayoutModel",
            "_view_count": null,
            "_view_module": "@jupyter-widgets/base",
            "_view_module_version": "1.2.0",
            "_view_name": "LayoutView",
            "align_content": null,
            "align_items": null,
            "align_self": null,
            "border": null,
            "bottom": null,
            "display": null,
            "flex": null,
            "flex_flow": null,
            "grid_area": null,
            "grid_auto_columns": null,
            "grid_auto_flow": null,
            "grid_auto_rows": null,
            "grid_column": null,
            "grid_gap": null,
            "grid_row": null,
            "grid_template_areas": null,
            "grid_template_columns": null,
            "grid_template_rows": null,
            "height": null,
            "justify_content": null,
            "justify_items": null,
            "left": null,
            "margin": null,
            "max_height": null,
            "max_width": null,
            "min_height": null,
            "min_width": null,
            "object_fit": null,
            "object_position": null,
            "order": null,
            "overflow": null,
            "overflow_x": null,
            "overflow_y": null,
            "padding": null,
            "right": null,
            "top": null,
            "visibility": "hidden",
            "width": null
          }
        },
        "f7b9079aca934301a05f87c1564b43c0": {
          "model_module": "@jupyter-widgets/base",
          "model_name": "LayoutModel",
          "model_module_version": "1.2.0",
          "state": {
            "_model_module": "@jupyter-widgets/base",
            "_model_module_version": "1.2.0",
            "_model_name": "LayoutModel",
            "_view_count": null,
            "_view_module": "@jupyter-widgets/base",
            "_view_module_version": "1.2.0",
            "_view_name": "LayoutView",
            "align_content": null,
            "align_items": null,
            "align_self": null,
            "border": null,
            "bottom": null,
            "display": null,
            "flex": null,
            "flex_flow": null,
            "grid_area": null,
            "grid_auto_columns": null,
            "grid_auto_flow": null,
            "grid_auto_rows": null,
            "grid_column": null,
            "grid_gap": null,
            "grid_row": null,
            "grid_template_areas": null,
            "grid_template_columns": null,
            "grid_template_rows": null,
            "height": null,
            "justify_content": null,
            "justify_items": null,
            "left": null,
            "margin": null,
            "max_height": null,
            "max_width": null,
            "min_height": null,
            "min_width": null,
            "object_fit": null,
            "object_position": null,
            "order": null,
            "overflow": null,
            "overflow_x": null,
            "overflow_y": null,
            "padding": null,
            "right": null,
            "top": null,
            "visibility": null,
            "width": null
          }
        },
        "e0e639acdcea46208debb9cf755c41fe": {
          "model_module": "@jupyter-widgets/controls",
          "model_name": "DescriptionStyleModel",
          "model_module_version": "1.5.0",
          "state": {
            "_model_module": "@jupyter-widgets/controls",
            "_model_module_version": "1.5.0",
            "_model_name": "DescriptionStyleModel",
            "_view_count": null,
            "_view_module": "@jupyter-widgets/base",
            "_view_module_version": "1.2.0",
            "_view_name": "StyleView",
            "description_width": ""
          }
        },
        "806a1abd80d9406c905ce503b7cf33ee": {
          "model_module": "@jupyter-widgets/base",
          "model_name": "LayoutModel",
          "model_module_version": "1.2.0",
          "state": {
            "_model_module": "@jupyter-widgets/base",
            "_model_module_version": "1.2.0",
            "_model_name": "LayoutModel",
            "_view_count": null,
            "_view_module": "@jupyter-widgets/base",
            "_view_module_version": "1.2.0",
            "_view_name": "LayoutView",
            "align_content": null,
            "align_items": null,
            "align_self": null,
            "border": null,
            "bottom": null,
            "display": null,
            "flex": null,
            "flex_flow": null,
            "grid_area": null,
            "grid_auto_columns": null,
            "grid_auto_flow": null,
            "grid_auto_rows": null,
            "grid_column": null,
            "grid_gap": null,
            "grid_row": null,
            "grid_template_areas": null,
            "grid_template_columns": null,
            "grid_template_rows": null,
            "height": null,
            "justify_content": null,
            "justify_items": null,
            "left": null,
            "margin": null,
            "max_height": null,
            "max_width": null,
            "min_height": null,
            "min_width": null,
            "object_fit": null,
            "object_position": null,
            "order": null,
            "overflow": null,
            "overflow_x": null,
            "overflow_y": null,
            "padding": null,
            "right": null,
            "top": null,
            "visibility": null,
            "width": null
          }
        },
        "c04f5f68aafb4cb4ab5dde6100d2919a": {
          "model_module": "@jupyter-widgets/controls",
          "model_name": "ProgressStyleModel",
          "model_module_version": "1.5.0",
          "state": {
            "_model_module": "@jupyter-widgets/controls",
            "_model_module_version": "1.5.0",
            "_model_name": "ProgressStyleModel",
            "_view_count": null,
            "_view_module": "@jupyter-widgets/base",
            "_view_module_version": "1.2.0",
            "_view_name": "StyleView",
            "bar_color": null,
            "description_width": ""
          }
        },
        "87f864388ecb45438278edf3c5b4f5dd": {
          "model_module": "@jupyter-widgets/base",
          "model_name": "LayoutModel",
          "model_module_version": "1.2.0",
          "state": {
            "_model_module": "@jupyter-widgets/base",
            "_model_module_version": "1.2.0",
            "_model_name": "LayoutModel",
            "_view_count": null,
            "_view_module": "@jupyter-widgets/base",
            "_view_module_version": "1.2.0",
            "_view_name": "LayoutView",
            "align_content": null,
            "align_items": null,
            "align_self": null,
            "border": null,
            "bottom": null,
            "display": null,
            "flex": null,
            "flex_flow": null,
            "grid_area": null,
            "grid_auto_columns": null,
            "grid_auto_flow": null,
            "grid_auto_rows": null,
            "grid_column": null,
            "grid_gap": null,
            "grid_row": null,
            "grid_template_areas": null,
            "grid_template_columns": null,
            "grid_template_rows": null,
            "height": null,
            "justify_content": null,
            "justify_items": null,
            "left": null,
            "margin": null,
            "max_height": null,
            "max_width": null,
            "min_height": null,
            "min_width": null,
            "object_fit": null,
            "object_position": null,
            "order": null,
            "overflow": null,
            "overflow_x": null,
            "overflow_y": null,
            "padding": null,
            "right": null,
            "top": null,
            "visibility": null,
            "width": null
          }
        },
        "9039b165c5214594ab52cc0283d782ef": {
          "model_module": "@jupyter-widgets/controls",
          "model_name": "DescriptionStyleModel",
          "model_module_version": "1.5.0",
          "state": {
            "_model_module": "@jupyter-widgets/controls",
            "_model_module_version": "1.5.0",
            "_model_name": "DescriptionStyleModel",
            "_view_count": null,
            "_view_module": "@jupyter-widgets/base",
            "_view_module_version": "1.2.0",
            "_view_name": "StyleView",
            "description_width": ""
          }
        },
        "08b9aed9ef45432199148cec57dbf404": {
          "model_module": "@jupyter-widgets/controls",
          "model_name": "HBoxModel",
          "model_module_version": "1.5.0",
          "state": {
            "_dom_classes": [],
            "_model_module": "@jupyter-widgets/controls",
            "_model_module_version": "1.5.0",
            "_model_name": "HBoxModel",
            "_view_count": null,
            "_view_module": "@jupyter-widgets/controls",
            "_view_module_version": "1.5.0",
            "_view_name": "HBoxView",
            "box_style": "",
            "children": [
              "IPY_MODEL_b8f83e8d926c4d21a77116c5a61698c9",
              "IPY_MODEL_c51c686088474d319b9b5c362e2aa057",
              "IPY_MODEL_d29f41055f0e42bb9cc1e50ab805ea9f"
            ],
            "layout": "IPY_MODEL_d427fc49859b4dcba410a2804752e1ab"
          }
        },
        "b8f83e8d926c4d21a77116c5a61698c9": {
          "model_module": "@jupyter-widgets/controls",
          "model_name": "HTMLModel",
          "model_module_version": "1.5.0",
          "state": {
            "_dom_classes": [],
            "_model_module": "@jupyter-widgets/controls",
            "_model_module_version": "1.5.0",
            "_model_name": "HTMLModel",
            "_view_count": null,
            "_view_module": "@jupyter-widgets/controls",
            "_view_module_version": "1.5.0",
            "_view_name": "HTMLView",
            "description": "",
            "description_tooltip": null,
            "layout": "IPY_MODEL_5f37f6676f59498d89cb91bec3455dd5",
            "placeholder": "​",
            "style": "IPY_MODEL_eaf6b64741604cfe8d4bdbea62c2e1a6",
            "value": "Shuffling /root/tensorflow_datasets/yelp_polarity_reviews/0.2.0.incompleteL9G42R/yelp_polarity_reviews-train.tfrecord*...:  97%"
          }
        },
        "c51c686088474d319b9b5c362e2aa057": {
          "model_module": "@jupyter-widgets/controls",
          "model_name": "FloatProgressModel",
          "model_module_version": "1.5.0",
          "state": {
            "_dom_classes": [],
            "_model_module": "@jupyter-widgets/controls",
            "_model_module_version": "1.5.0",
            "_model_name": "FloatProgressModel",
            "_view_count": null,
            "_view_module": "@jupyter-widgets/controls",
            "_view_module_version": "1.5.0",
            "_view_name": "ProgressView",
            "bar_style": "",
            "description": "",
            "description_tooltip": null,
            "layout": "IPY_MODEL_7ed2fece877c4214a95cdd62e0336201",
            "max": 560000,
            "min": 0,
            "orientation": "horizontal",
            "style": "IPY_MODEL_26b3d48b0e6c4efbb9220dc48913383b",
            "value": 560000
          }
        },
        "d29f41055f0e42bb9cc1e50ab805ea9f": {
          "model_module": "@jupyter-widgets/controls",
          "model_name": "HTMLModel",
          "model_module_version": "1.5.0",
          "state": {
            "_dom_classes": [],
            "_model_module": "@jupyter-widgets/controls",
            "_model_module_version": "1.5.0",
            "_model_name": "HTMLModel",
            "_view_count": null,
            "_view_module": "@jupyter-widgets/controls",
            "_view_module_version": "1.5.0",
            "_view_name": "HTMLView",
            "description": "",
            "description_tooltip": null,
            "layout": "IPY_MODEL_fb541b21ce28476db7a868e0ad62c5f3",
            "placeholder": "​",
            "style": "IPY_MODEL_69a8c8bff5bd4a0cb66ae3660f8ad2f6",
            "value": " 544777/560000 [00:02&lt;00:00, 281699.78 examples/s]"
          }
        },
        "d427fc49859b4dcba410a2804752e1ab": {
          "model_module": "@jupyter-widgets/base",
          "model_name": "LayoutModel",
          "model_module_version": "1.2.0",
          "state": {
            "_model_module": "@jupyter-widgets/base",
            "_model_module_version": "1.2.0",
            "_model_name": "LayoutModel",
            "_view_count": null,
            "_view_module": "@jupyter-widgets/base",
            "_view_module_version": "1.2.0",
            "_view_name": "LayoutView",
            "align_content": null,
            "align_items": null,
            "align_self": null,
            "border": null,
            "bottom": null,
            "display": null,
            "flex": null,
            "flex_flow": null,
            "grid_area": null,
            "grid_auto_columns": null,
            "grid_auto_flow": null,
            "grid_auto_rows": null,
            "grid_column": null,
            "grid_gap": null,
            "grid_row": null,
            "grid_template_areas": null,
            "grid_template_columns": null,
            "grid_template_rows": null,
            "height": null,
            "justify_content": null,
            "justify_items": null,
            "left": null,
            "margin": null,
            "max_height": null,
            "max_width": null,
            "min_height": null,
            "min_width": null,
            "object_fit": null,
            "object_position": null,
            "order": null,
            "overflow": null,
            "overflow_x": null,
            "overflow_y": null,
            "padding": null,
            "right": null,
            "top": null,
            "visibility": "hidden",
            "width": null
          }
        },
        "5f37f6676f59498d89cb91bec3455dd5": {
          "model_module": "@jupyter-widgets/base",
          "model_name": "LayoutModel",
          "model_module_version": "1.2.0",
          "state": {
            "_model_module": "@jupyter-widgets/base",
            "_model_module_version": "1.2.0",
            "_model_name": "LayoutModel",
            "_view_count": null,
            "_view_module": "@jupyter-widgets/base",
            "_view_module_version": "1.2.0",
            "_view_name": "LayoutView",
            "align_content": null,
            "align_items": null,
            "align_self": null,
            "border": null,
            "bottom": null,
            "display": null,
            "flex": null,
            "flex_flow": null,
            "grid_area": null,
            "grid_auto_columns": null,
            "grid_auto_flow": null,
            "grid_auto_rows": null,
            "grid_column": null,
            "grid_gap": null,
            "grid_row": null,
            "grid_template_areas": null,
            "grid_template_columns": null,
            "grid_template_rows": null,
            "height": null,
            "justify_content": null,
            "justify_items": null,
            "left": null,
            "margin": null,
            "max_height": null,
            "max_width": null,
            "min_height": null,
            "min_width": null,
            "object_fit": null,
            "object_position": null,
            "order": null,
            "overflow": null,
            "overflow_x": null,
            "overflow_y": null,
            "padding": null,
            "right": null,
            "top": null,
            "visibility": null,
            "width": null
          }
        },
        "eaf6b64741604cfe8d4bdbea62c2e1a6": {
          "model_module": "@jupyter-widgets/controls",
          "model_name": "DescriptionStyleModel",
          "model_module_version": "1.5.0",
          "state": {
            "_model_module": "@jupyter-widgets/controls",
            "_model_module_version": "1.5.0",
            "_model_name": "DescriptionStyleModel",
            "_view_count": null,
            "_view_module": "@jupyter-widgets/base",
            "_view_module_version": "1.2.0",
            "_view_name": "StyleView",
            "description_width": ""
          }
        },
        "7ed2fece877c4214a95cdd62e0336201": {
          "model_module": "@jupyter-widgets/base",
          "model_name": "LayoutModel",
          "model_module_version": "1.2.0",
          "state": {
            "_model_module": "@jupyter-widgets/base",
            "_model_module_version": "1.2.0",
            "_model_name": "LayoutModel",
            "_view_count": null,
            "_view_module": "@jupyter-widgets/base",
            "_view_module_version": "1.2.0",
            "_view_name": "LayoutView",
            "align_content": null,
            "align_items": null,
            "align_self": null,
            "border": null,
            "bottom": null,
            "display": null,
            "flex": null,
            "flex_flow": null,
            "grid_area": null,
            "grid_auto_columns": null,
            "grid_auto_flow": null,
            "grid_auto_rows": null,
            "grid_column": null,
            "grid_gap": null,
            "grid_row": null,
            "grid_template_areas": null,
            "grid_template_columns": null,
            "grid_template_rows": null,
            "height": null,
            "justify_content": null,
            "justify_items": null,
            "left": null,
            "margin": null,
            "max_height": null,
            "max_width": null,
            "min_height": null,
            "min_width": null,
            "object_fit": null,
            "object_position": null,
            "order": null,
            "overflow": null,
            "overflow_x": null,
            "overflow_y": null,
            "padding": null,
            "right": null,
            "top": null,
            "visibility": null,
            "width": null
          }
        },
        "26b3d48b0e6c4efbb9220dc48913383b": {
          "model_module": "@jupyter-widgets/controls",
          "model_name": "ProgressStyleModel",
          "model_module_version": "1.5.0",
          "state": {
            "_model_module": "@jupyter-widgets/controls",
            "_model_module_version": "1.5.0",
            "_model_name": "ProgressStyleModel",
            "_view_count": null,
            "_view_module": "@jupyter-widgets/base",
            "_view_module_version": "1.2.0",
            "_view_name": "StyleView",
            "bar_color": null,
            "description_width": ""
          }
        },
        "fb541b21ce28476db7a868e0ad62c5f3": {
          "model_module": "@jupyter-widgets/base",
          "model_name": "LayoutModel",
          "model_module_version": "1.2.0",
          "state": {
            "_model_module": "@jupyter-widgets/base",
            "_model_module_version": "1.2.0",
            "_model_name": "LayoutModel",
            "_view_count": null,
            "_view_module": "@jupyter-widgets/base",
            "_view_module_version": "1.2.0",
            "_view_name": "LayoutView",
            "align_content": null,
            "align_items": null,
            "align_self": null,
            "border": null,
            "bottom": null,
            "display": null,
            "flex": null,
            "flex_flow": null,
            "grid_area": null,
            "grid_auto_columns": null,
            "grid_auto_flow": null,
            "grid_auto_rows": null,
            "grid_column": null,
            "grid_gap": null,
            "grid_row": null,
            "grid_template_areas": null,
            "grid_template_columns": null,
            "grid_template_rows": null,
            "height": null,
            "justify_content": null,
            "justify_items": null,
            "left": null,
            "margin": null,
            "max_height": null,
            "max_width": null,
            "min_height": null,
            "min_width": null,
            "object_fit": null,
            "object_position": null,
            "order": null,
            "overflow": null,
            "overflow_x": null,
            "overflow_y": null,
            "padding": null,
            "right": null,
            "top": null,
            "visibility": null,
            "width": null
          }
        },
        "69a8c8bff5bd4a0cb66ae3660f8ad2f6": {
          "model_module": "@jupyter-widgets/controls",
          "model_name": "DescriptionStyleModel",
          "model_module_version": "1.5.0",
          "state": {
            "_model_module": "@jupyter-widgets/controls",
            "_model_module_version": "1.5.0",
            "_model_name": "DescriptionStyleModel",
            "_view_count": null,
            "_view_module": "@jupyter-widgets/base",
            "_view_module_version": "1.2.0",
            "_view_name": "StyleView",
            "description_width": ""
          }
        },
        "7a7cb4f87f9d498aa28a91df3189d8ec": {
          "model_module": "@jupyter-widgets/controls",
          "model_name": "HBoxModel",
          "model_module_version": "1.5.0",
          "state": {
            "_dom_classes": [],
            "_model_module": "@jupyter-widgets/controls",
            "_model_module_version": "1.5.0",
            "_model_name": "HBoxModel",
            "_view_count": null,
            "_view_module": "@jupyter-widgets/controls",
            "_view_module_version": "1.5.0",
            "_view_name": "HBoxView",
            "box_style": "",
            "children": [
              "IPY_MODEL_75b1d4ea16714fbe93c321b2ef4df0a6",
              "IPY_MODEL_a96d8bfeb7994201931eb00303274da8",
              "IPY_MODEL_2d2326664c41495e98ce1eca08050a5d"
            ],
            "layout": "IPY_MODEL_edfa53b311334acfb5704735bd02118d"
          }
        },
        "75b1d4ea16714fbe93c321b2ef4df0a6": {
          "model_module": "@jupyter-widgets/controls",
          "model_name": "HTMLModel",
          "model_module_version": "1.5.0",
          "state": {
            "_dom_classes": [],
            "_model_module": "@jupyter-widgets/controls",
            "_model_module_version": "1.5.0",
            "_model_name": "HTMLModel",
            "_view_count": null,
            "_view_module": "@jupyter-widgets/controls",
            "_view_module_version": "1.5.0",
            "_view_name": "HTMLView",
            "description": "",
            "description_tooltip": null,
            "layout": "IPY_MODEL_2c2f01785a87490a89581ce904ce431e",
            "placeholder": "​",
            "style": "IPY_MODEL_f15eb7f98fc34e64b363645b6faa88d6",
            "value": "Generating test examples...:  99%"
          }
        },
        "a96d8bfeb7994201931eb00303274da8": {
          "model_module": "@jupyter-widgets/controls",
          "model_name": "FloatProgressModel",
          "model_module_version": "1.5.0",
          "state": {
            "_dom_classes": [],
            "_model_module": "@jupyter-widgets/controls",
            "_model_module_version": "1.5.0",
            "_model_name": "FloatProgressModel",
            "_view_count": null,
            "_view_module": "@jupyter-widgets/controls",
            "_view_module_version": "1.5.0",
            "_view_name": "ProgressView",
            "bar_style": "",
            "description": "",
            "description_tooltip": null,
            "layout": "IPY_MODEL_ef6e9da81d6f4941b914d0829caa3eb4",
            "max": 38000,
            "min": 0,
            "orientation": "horizontal",
            "style": "IPY_MODEL_e96873ad21ec4f5483a5e604970525dc",
            "value": 38000
          }
        },
        "2d2326664c41495e98ce1eca08050a5d": {
          "model_module": "@jupyter-widgets/controls",
          "model_name": "HTMLModel",
          "model_module_version": "1.5.0",
          "state": {
            "_dom_classes": [],
            "_model_module": "@jupyter-widgets/controls",
            "_model_module_version": "1.5.0",
            "_model_name": "HTMLModel",
            "_view_count": null,
            "_view_module": "@jupyter-widgets/controls",
            "_view_module_version": "1.5.0",
            "_view_name": "HTMLView",
            "description": "",
            "description_tooltip": null,
            "layout": "IPY_MODEL_4f00eb19623e4bbbb2bebb8214372499",
            "placeholder": "​",
            "style": "IPY_MODEL_7483564cf0904e4cb4386f5432942079",
            "value": " 37532/38000 [00:02&lt;00:00, 13106.30 examples/s]"
          }
        },
        "edfa53b311334acfb5704735bd02118d": {
          "model_module": "@jupyter-widgets/base",
          "model_name": "LayoutModel",
          "model_module_version": "1.2.0",
          "state": {
            "_model_module": "@jupyter-widgets/base",
            "_model_module_version": "1.2.0",
            "_model_name": "LayoutModel",
            "_view_count": null,
            "_view_module": "@jupyter-widgets/base",
            "_view_module_version": "1.2.0",
            "_view_name": "LayoutView",
            "align_content": null,
            "align_items": null,
            "align_self": null,
            "border": null,
            "bottom": null,
            "display": null,
            "flex": null,
            "flex_flow": null,
            "grid_area": null,
            "grid_auto_columns": null,
            "grid_auto_flow": null,
            "grid_auto_rows": null,
            "grid_column": null,
            "grid_gap": null,
            "grid_row": null,
            "grid_template_areas": null,
            "grid_template_columns": null,
            "grid_template_rows": null,
            "height": null,
            "justify_content": null,
            "justify_items": null,
            "left": null,
            "margin": null,
            "max_height": null,
            "max_width": null,
            "min_height": null,
            "min_width": null,
            "object_fit": null,
            "object_position": null,
            "order": null,
            "overflow": null,
            "overflow_x": null,
            "overflow_y": null,
            "padding": null,
            "right": null,
            "top": null,
            "visibility": "hidden",
            "width": null
          }
        },
        "2c2f01785a87490a89581ce904ce431e": {
          "model_module": "@jupyter-widgets/base",
          "model_name": "LayoutModel",
          "model_module_version": "1.2.0",
          "state": {
            "_model_module": "@jupyter-widgets/base",
            "_model_module_version": "1.2.0",
            "_model_name": "LayoutModel",
            "_view_count": null,
            "_view_module": "@jupyter-widgets/base",
            "_view_module_version": "1.2.0",
            "_view_name": "LayoutView",
            "align_content": null,
            "align_items": null,
            "align_self": null,
            "border": null,
            "bottom": null,
            "display": null,
            "flex": null,
            "flex_flow": null,
            "grid_area": null,
            "grid_auto_columns": null,
            "grid_auto_flow": null,
            "grid_auto_rows": null,
            "grid_column": null,
            "grid_gap": null,
            "grid_row": null,
            "grid_template_areas": null,
            "grid_template_columns": null,
            "grid_template_rows": null,
            "height": null,
            "justify_content": null,
            "justify_items": null,
            "left": null,
            "margin": null,
            "max_height": null,
            "max_width": null,
            "min_height": null,
            "min_width": null,
            "object_fit": null,
            "object_position": null,
            "order": null,
            "overflow": null,
            "overflow_x": null,
            "overflow_y": null,
            "padding": null,
            "right": null,
            "top": null,
            "visibility": null,
            "width": null
          }
        },
        "f15eb7f98fc34e64b363645b6faa88d6": {
          "model_module": "@jupyter-widgets/controls",
          "model_name": "DescriptionStyleModel",
          "model_module_version": "1.5.0",
          "state": {
            "_model_module": "@jupyter-widgets/controls",
            "_model_module_version": "1.5.0",
            "_model_name": "DescriptionStyleModel",
            "_view_count": null,
            "_view_module": "@jupyter-widgets/base",
            "_view_module_version": "1.2.0",
            "_view_name": "StyleView",
            "description_width": ""
          }
        },
        "ef6e9da81d6f4941b914d0829caa3eb4": {
          "model_module": "@jupyter-widgets/base",
          "model_name": "LayoutModel",
          "model_module_version": "1.2.0",
          "state": {
            "_model_module": "@jupyter-widgets/base",
            "_model_module_version": "1.2.0",
            "_model_name": "LayoutModel",
            "_view_count": null,
            "_view_module": "@jupyter-widgets/base",
            "_view_module_version": "1.2.0",
            "_view_name": "LayoutView",
            "align_content": null,
            "align_items": null,
            "align_self": null,
            "border": null,
            "bottom": null,
            "display": null,
            "flex": null,
            "flex_flow": null,
            "grid_area": null,
            "grid_auto_columns": null,
            "grid_auto_flow": null,
            "grid_auto_rows": null,
            "grid_column": null,
            "grid_gap": null,
            "grid_row": null,
            "grid_template_areas": null,
            "grid_template_columns": null,
            "grid_template_rows": null,
            "height": null,
            "justify_content": null,
            "justify_items": null,
            "left": null,
            "margin": null,
            "max_height": null,
            "max_width": null,
            "min_height": null,
            "min_width": null,
            "object_fit": null,
            "object_position": null,
            "order": null,
            "overflow": null,
            "overflow_x": null,
            "overflow_y": null,
            "padding": null,
            "right": null,
            "top": null,
            "visibility": null,
            "width": null
          }
        },
        "e96873ad21ec4f5483a5e604970525dc": {
          "model_module": "@jupyter-widgets/controls",
          "model_name": "ProgressStyleModel",
          "model_module_version": "1.5.0",
          "state": {
            "_model_module": "@jupyter-widgets/controls",
            "_model_module_version": "1.5.0",
            "_model_name": "ProgressStyleModel",
            "_view_count": null,
            "_view_module": "@jupyter-widgets/base",
            "_view_module_version": "1.2.0",
            "_view_name": "StyleView",
            "bar_color": null,
            "description_width": ""
          }
        },
        "4f00eb19623e4bbbb2bebb8214372499": {
          "model_module": "@jupyter-widgets/base",
          "model_name": "LayoutModel",
          "model_module_version": "1.2.0",
          "state": {
            "_model_module": "@jupyter-widgets/base",
            "_model_module_version": "1.2.0",
            "_model_name": "LayoutModel",
            "_view_count": null,
            "_view_module": "@jupyter-widgets/base",
            "_view_module_version": "1.2.0",
            "_view_name": "LayoutView",
            "align_content": null,
            "align_items": null,
            "align_self": null,
            "border": null,
            "bottom": null,
            "display": null,
            "flex": null,
            "flex_flow": null,
            "grid_area": null,
            "grid_auto_columns": null,
            "grid_auto_flow": null,
            "grid_auto_rows": null,
            "grid_column": null,
            "grid_gap": null,
            "grid_row": null,
            "grid_template_areas": null,
            "grid_template_columns": null,
            "grid_template_rows": null,
            "height": null,
            "justify_content": null,
            "justify_items": null,
            "left": null,
            "margin": null,
            "max_height": null,
            "max_width": null,
            "min_height": null,
            "min_width": null,
            "object_fit": null,
            "object_position": null,
            "order": null,
            "overflow": null,
            "overflow_x": null,
            "overflow_y": null,
            "padding": null,
            "right": null,
            "top": null,
            "visibility": null,
            "width": null
          }
        },
        "7483564cf0904e4cb4386f5432942079": {
          "model_module": "@jupyter-widgets/controls",
          "model_name": "DescriptionStyleModel",
          "model_module_version": "1.5.0",
          "state": {
            "_model_module": "@jupyter-widgets/controls",
            "_model_module_version": "1.5.0",
            "_model_name": "DescriptionStyleModel",
            "_view_count": null,
            "_view_module": "@jupyter-widgets/base",
            "_view_module_version": "1.2.0",
            "_view_name": "StyleView",
            "description_width": ""
          }
        },
        "a284485bc0df46678e8c822dcc583567": {
          "model_module": "@jupyter-widgets/controls",
          "model_name": "HBoxModel",
          "model_module_version": "1.5.0",
          "state": {
            "_dom_classes": [],
            "_model_module": "@jupyter-widgets/controls",
            "_model_module_version": "1.5.0",
            "_model_name": "HBoxModel",
            "_view_count": null,
            "_view_module": "@jupyter-widgets/controls",
            "_view_module_version": "1.5.0",
            "_view_name": "HBoxView",
            "box_style": "",
            "children": [
              "IPY_MODEL_39546bec0926461ea0daf0a1c10bf222",
              "IPY_MODEL_c5ab1c3d2a8745cdad59fc0396663155",
              "IPY_MODEL_9f7de58fc76c42138418d5f223ad53a5"
            ],
            "layout": "IPY_MODEL_1f0c335c04c646df8847d096f64bab17"
          }
        },
        "39546bec0926461ea0daf0a1c10bf222": {
          "model_module": "@jupyter-widgets/controls",
          "model_name": "HTMLModel",
          "model_module_version": "1.5.0",
          "state": {
            "_dom_classes": [],
            "_model_module": "@jupyter-widgets/controls",
            "_model_module_version": "1.5.0",
            "_model_name": "HTMLModel",
            "_view_count": null,
            "_view_module": "@jupyter-widgets/controls",
            "_view_module_version": "1.5.0",
            "_view_name": "HTMLView",
            "description": "",
            "description_tooltip": null,
            "layout": "IPY_MODEL_34949e12f3e14b79ae819601a019eb43",
            "placeholder": "​",
            "style": "IPY_MODEL_28ac891e34ff4f04927eb59383dc7f89",
            "value": "Shuffling /root/tensorflow_datasets/yelp_polarity_reviews/0.2.0.incompleteL9G42R/yelp_polarity_reviews-test.tfrecord*...:  35%"
          }
        },
        "c5ab1c3d2a8745cdad59fc0396663155": {
          "model_module": "@jupyter-widgets/controls",
          "model_name": "FloatProgressModel",
          "model_module_version": "1.5.0",
          "state": {
            "_dom_classes": [],
            "_model_module": "@jupyter-widgets/controls",
            "_model_module_version": "1.5.0",
            "_model_name": "FloatProgressModel",
            "_view_count": null,
            "_view_module": "@jupyter-widgets/controls",
            "_view_module_version": "1.5.0",
            "_view_name": "ProgressView",
            "bar_style": "",
            "description": "",
            "description_tooltip": null,
            "layout": "IPY_MODEL_7ed956f9b79b49d6831526e79481bb65",
            "max": 38000,
            "min": 0,
            "orientation": "horizontal",
            "style": "IPY_MODEL_9fd8ed36f6b345ba844eeae176186114",
            "value": 38000
          }
        },
        "9f7de58fc76c42138418d5f223ad53a5": {
          "model_module": "@jupyter-widgets/controls",
          "model_name": "HTMLModel",
          "model_module_version": "1.5.0",
          "state": {
            "_dom_classes": [],
            "_model_module": "@jupyter-widgets/controls",
            "_model_module_version": "1.5.0",
            "_model_name": "HTMLModel",
            "_view_count": null,
            "_view_module": "@jupyter-widgets/controls",
            "_view_module_version": "1.5.0",
            "_view_name": "HTMLView",
            "description": "",
            "description_tooltip": null,
            "layout": "IPY_MODEL_481b5aed451c4ab38af2f810ad908c51",
            "placeholder": "​",
            "style": "IPY_MODEL_beececddf559458cb590a3051b4922f8",
            "value": " 13339/38000 [00:00&lt;00:00, 133364.05 examples/s]"
          }
        },
        "1f0c335c04c646df8847d096f64bab17": {
          "model_module": "@jupyter-widgets/base",
          "model_name": "LayoutModel",
          "model_module_version": "1.2.0",
          "state": {
            "_model_module": "@jupyter-widgets/base",
            "_model_module_version": "1.2.0",
            "_model_name": "LayoutModel",
            "_view_count": null,
            "_view_module": "@jupyter-widgets/base",
            "_view_module_version": "1.2.0",
            "_view_name": "LayoutView",
            "align_content": null,
            "align_items": null,
            "align_self": null,
            "border": null,
            "bottom": null,
            "display": null,
            "flex": null,
            "flex_flow": null,
            "grid_area": null,
            "grid_auto_columns": null,
            "grid_auto_flow": null,
            "grid_auto_rows": null,
            "grid_column": null,
            "grid_gap": null,
            "grid_row": null,
            "grid_template_areas": null,
            "grid_template_columns": null,
            "grid_template_rows": null,
            "height": null,
            "justify_content": null,
            "justify_items": null,
            "left": null,
            "margin": null,
            "max_height": null,
            "max_width": null,
            "min_height": null,
            "min_width": null,
            "object_fit": null,
            "object_position": null,
            "order": null,
            "overflow": null,
            "overflow_x": null,
            "overflow_y": null,
            "padding": null,
            "right": null,
            "top": null,
            "visibility": "hidden",
            "width": null
          }
        },
        "34949e12f3e14b79ae819601a019eb43": {
          "model_module": "@jupyter-widgets/base",
          "model_name": "LayoutModel",
          "model_module_version": "1.2.0",
          "state": {
            "_model_module": "@jupyter-widgets/base",
            "_model_module_version": "1.2.0",
            "_model_name": "LayoutModel",
            "_view_count": null,
            "_view_module": "@jupyter-widgets/base",
            "_view_module_version": "1.2.0",
            "_view_name": "LayoutView",
            "align_content": null,
            "align_items": null,
            "align_self": null,
            "border": null,
            "bottom": null,
            "display": null,
            "flex": null,
            "flex_flow": null,
            "grid_area": null,
            "grid_auto_columns": null,
            "grid_auto_flow": null,
            "grid_auto_rows": null,
            "grid_column": null,
            "grid_gap": null,
            "grid_row": null,
            "grid_template_areas": null,
            "grid_template_columns": null,
            "grid_template_rows": null,
            "height": null,
            "justify_content": null,
            "justify_items": null,
            "left": null,
            "margin": null,
            "max_height": null,
            "max_width": null,
            "min_height": null,
            "min_width": null,
            "object_fit": null,
            "object_position": null,
            "order": null,
            "overflow": null,
            "overflow_x": null,
            "overflow_y": null,
            "padding": null,
            "right": null,
            "top": null,
            "visibility": null,
            "width": null
          }
        },
        "28ac891e34ff4f04927eb59383dc7f89": {
          "model_module": "@jupyter-widgets/controls",
          "model_name": "DescriptionStyleModel",
          "model_module_version": "1.5.0",
          "state": {
            "_model_module": "@jupyter-widgets/controls",
            "_model_module_version": "1.5.0",
            "_model_name": "DescriptionStyleModel",
            "_view_count": null,
            "_view_module": "@jupyter-widgets/base",
            "_view_module_version": "1.2.0",
            "_view_name": "StyleView",
            "description_width": ""
          }
        },
        "7ed956f9b79b49d6831526e79481bb65": {
          "model_module": "@jupyter-widgets/base",
          "model_name": "LayoutModel",
          "model_module_version": "1.2.0",
          "state": {
            "_model_module": "@jupyter-widgets/base",
            "_model_module_version": "1.2.0",
            "_model_name": "LayoutModel",
            "_view_count": null,
            "_view_module": "@jupyter-widgets/base",
            "_view_module_version": "1.2.0",
            "_view_name": "LayoutView",
            "align_content": null,
            "align_items": null,
            "align_self": null,
            "border": null,
            "bottom": null,
            "display": null,
            "flex": null,
            "flex_flow": null,
            "grid_area": null,
            "grid_auto_columns": null,
            "grid_auto_flow": null,
            "grid_auto_rows": null,
            "grid_column": null,
            "grid_gap": null,
            "grid_row": null,
            "grid_template_areas": null,
            "grid_template_columns": null,
            "grid_template_rows": null,
            "height": null,
            "justify_content": null,
            "justify_items": null,
            "left": null,
            "margin": null,
            "max_height": null,
            "max_width": null,
            "min_height": null,
            "min_width": null,
            "object_fit": null,
            "object_position": null,
            "order": null,
            "overflow": null,
            "overflow_x": null,
            "overflow_y": null,
            "padding": null,
            "right": null,
            "top": null,
            "visibility": null,
            "width": null
          }
        },
        "9fd8ed36f6b345ba844eeae176186114": {
          "model_module": "@jupyter-widgets/controls",
          "model_name": "ProgressStyleModel",
          "model_module_version": "1.5.0",
          "state": {
            "_model_module": "@jupyter-widgets/controls",
            "_model_module_version": "1.5.0",
            "_model_name": "ProgressStyleModel",
            "_view_count": null,
            "_view_module": "@jupyter-widgets/base",
            "_view_module_version": "1.2.0",
            "_view_name": "StyleView",
            "bar_color": null,
            "description_width": ""
          }
        },
        "481b5aed451c4ab38af2f810ad908c51": {
          "model_module": "@jupyter-widgets/base",
          "model_name": "LayoutModel",
          "model_module_version": "1.2.0",
          "state": {
            "_model_module": "@jupyter-widgets/base",
            "_model_module_version": "1.2.0",
            "_model_name": "LayoutModel",
            "_view_count": null,
            "_view_module": "@jupyter-widgets/base",
            "_view_module_version": "1.2.0",
            "_view_name": "LayoutView",
            "align_content": null,
            "align_items": null,
            "align_self": null,
            "border": null,
            "bottom": null,
            "display": null,
            "flex": null,
            "flex_flow": null,
            "grid_area": null,
            "grid_auto_columns": null,
            "grid_auto_flow": null,
            "grid_auto_rows": null,
            "grid_column": null,
            "grid_gap": null,
            "grid_row": null,
            "grid_template_areas": null,
            "grid_template_columns": null,
            "grid_template_rows": null,
            "height": null,
            "justify_content": null,
            "justify_items": null,
            "left": null,
            "margin": null,
            "max_height": null,
            "max_width": null,
            "min_height": null,
            "min_width": null,
            "object_fit": null,
            "object_position": null,
            "order": null,
            "overflow": null,
            "overflow_x": null,
            "overflow_y": null,
            "padding": null,
            "right": null,
            "top": null,
            "visibility": null,
            "width": null
          }
        },
        "beececddf559458cb590a3051b4922f8": {
          "model_module": "@jupyter-widgets/controls",
          "model_name": "DescriptionStyleModel",
          "model_module_version": "1.5.0",
          "state": {
            "_model_module": "@jupyter-widgets/controls",
            "_model_module_version": "1.5.0",
            "_model_name": "DescriptionStyleModel",
            "_view_count": null,
            "_view_module": "@jupyter-widgets/base",
            "_view_module_version": "1.2.0",
            "_view_name": "StyleView",
            "description_width": ""
          }
        }
      }
    }
  },
  "nbformat": 4,
  "nbformat_minor": 5
}