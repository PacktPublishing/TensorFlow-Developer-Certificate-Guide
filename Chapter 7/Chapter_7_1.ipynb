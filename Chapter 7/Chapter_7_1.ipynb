{
  "nbformat": 4,
  "nbformat_minor": 0,
  "metadata": {
    "colab": {
      "provenance": []
    },
    "kernelspec": {
      "name": "python3",
      "display_name": "Python 3"
    },
    "language_info": {
      "name": "python"
    }
  },
  "cells": [
    {
      "cell_type": "code",
      "execution_count": 18,
      "metadata": {
        "id": "SPQXH1nxbmiQ"
      },
      "outputs": [],
      "source": [
        "import numpy as np\n",
        "import tensorflow as tf\n"
      ]
    },
    {
      "cell_type": "code",
      "source": [
        "(x_train,y_train),(x_test,y_test) = tf.keras.datasets.fashion_mnist.load_data()"
      ],
      "metadata": {
        "id": "cMO4yNtYbr_S"
      },
      "execution_count": 8,
      "outputs": []
    },
    {
      "cell_type": "code",
      "source": [
        "len(x_train), len(x_test)"
      ],
      "metadata": {
        "colab": {
          "base_uri": "https://localhost:8080/"
        },
        "id": "_TmGfTLabtu-",
        "outputId": "2db31541-3a2d-4a6a-a778-01645283996b"
      },
      "execution_count": 9,
      "outputs": [
        {
          "output_type": "execute_result",
          "data": {
            "text/plain": [
              "(60000, 10000)"
            ]
          },
          "metadata": {},
          "execution_count": 9
        }
      ]
    },
    {
      "cell_type": "code",
      "source": [
        "# Reshape the images(batch_size, height, width, channels)\n",
        "x_train = x_train.reshape(x_train.shape[0], 28, 28, 1).astype('float32')\n",
        "x_test = x_test.reshape(x_test.shape[0], 28, 28, 1).astype('float32')"
      ],
      "metadata": {
        "id": "AjhTq3SXbw_v"
      },
      "execution_count": 10,
      "outputs": []
    },
    {
      "cell_type": "code",
      "source": [
        "# Normalize the pixel values\n",
        "x_train /= 255\n",
        "x_test /= 255"
      ],
      "metadata": {
        "id": "P6hOQMgHb1Z4"
      },
      "execution_count": 11,
      "outputs": []
    },
    {
      "cell_type": "code",
      "source": [
        "# Convert the labels to one hot encoding format\n",
        "y_train = tf.keras.utils.to_categorical(y_train, 10)\n",
        "y_test = tf.keras.utils.to_categorical(y_test, 10)"
      ],
      "metadata": {
        "id": "CNdGjzetb3kv"
      },
      "execution_count": null,
      "outputs": []
    },
    {
      "cell_type": "code",
      "source": [
        "# Build the Sequential model\n",
        "model = tf.keras.models.Sequential()\n",
        "# Add convolutional layer\n",
        "model.add(tf.keras.layers.Conv2D(64, kernel_size=(3, 3), activation='relu', input_shape=(28, 28, 1)))\n",
        "# Add max pooling layer\n",
        "model.add(tf.keras.layers.MaxPooling2D(pool_size=(2, 2)))\n",
        "# Flatten the data\n",
        "model.add(tf.keras.layers.Flatten())\n",
        "# Add fully connected layer\n",
        "model.add(tf.keras.layers.Dense(128, activation='relu'))\n",
        "# Apply softmax\n",
        "model.add(tf.keras.layers.Dense(10, activation='softmax'))\n"
      ],
      "metadata": {
        "id": "Zze1cSsab3iQ"
      },
      "execution_count": 13,
      "outputs": []
    },
    {
      "cell_type": "code",
      "source": [
        "# Compile and fit the model\n",
        "model.compile(loss='categorical_crossentropy',\n",
        " optimizer='adam', metrics=['accuracy'])\n",
        "model.fit(x_train, y_train, epochs=10, validation_split=0.2)"
      ],
      "metadata": {
        "colab": {
          "base_uri": "https://localhost:8080/"
        },
        "id": "2sC2Pcahb3eY",
        "outputId": "22b6a4a1-8149-4042-90d8-938818e6d03d"
      },
      "execution_count": 14,
      "outputs": [
        {
          "output_type": "stream",
          "name": "stdout",
          "text": [
            "Epoch 1/10\n",
            "1500/1500 [==============================] - 31s 20ms/step - loss: 0.3972 - accuracy: 0.8584 - val_loss: 0.3135 - val_accuracy: 0.8857\n",
            "Epoch 2/10\n",
            "1500/1500 [==============================] - 39s 26ms/step - loss: 0.2611 - accuracy: 0.9054 - val_loss: 0.2661 - val_accuracy: 0.9027\n",
            "Epoch 3/10\n",
            "1500/1500 [==============================] - 29s 19ms/step - loss: 0.2178 - accuracy: 0.9196 - val_loss: 0.2709 - val_accuracy: 0.9016\n",
            "Epoch 4/10\n",
            "1500/1500 [==============================] - 30s 20ms/step - loss: 0.1840 - accuracy: 0.9320 - val_loss: 0.2445 - val_accuracy: 0.9109\n",
            "Epoch 5/10\n",
            "1500/1500 [==============================] - 30s 20ms/step - loss: 0.1551 - accuracy: 0.9427 - val_loss: 0.2437 - val_accuracy: 0.9178\n",
            "Epoch 6/10\n",
            "1500/1500 [==============================] - 30s 20ms/step - loss: 0.1326 - accuracy: 0.9520 - val_loss: 0.2462 - val_accuracy: 0.9172\n",
            "Epoch 7/10\n",
            "1500/1500 [==============================] - 29s 20ms/step - loss: 0.1092 - accuracy: 0.9594 - val_loss: 0.2740 - val_accuracy: 0.9165\n",
            "Epoch 8/10\n",
            "1500/1500 [==============================] - 30s 20ms/step - loss: 0.0945 - accuracy: 0.9650 - val_loss: 0.2913 - val_accuracy: 0.9174\n",
            "Epoch 9/10\n",
            "1500/1500 [==============================] - 30s 20ms/step - loss: 0.0775 - accuracy: 0.9720 - val_loss: 0.3125 - val_accuracy: 0.9119\n",
            "Epoch 10/10\n",
            "1500/1500 [==============================] - 30s 20ms/step - loss: 0.0648 - accuracy: 0.9761 - val_loss: 0.3082 - val_accuracy: 0.9168\n"
          ]
        },
        {
          "output_type": "execute_result",
          "data": {
            "text/plain": [
              "<keras.src.callbacks.History at 0x78aa324de470>"
            ]
          },
          "metadata": {},
          "execution_count": 14
        }
      ]
    },
    {
      "cell_type": "code",
      "source": [
        "model.summary()"
      ],
      "metadata": {
        "colab": {
          "base_uri": "https://localhost:8080/"
        },
        "id": "n1XafoNhcIiK",
        "outputId": "212ec2e6-430a-4910-e4e7-668d5addbc97"
      },
      "execution_count": 15,
      "outputs": [
        {
          "output_type": "stream",
          "name": "stdout",
          "text": [
            "Model: \"sequential\"\n",
            "_________________________________________________________________\n",
            " Layer (type)                Output Shape              Param #   \n",
            "=================================================================\n",
            " conv2d (Conv2D)             (None, 26, 26, 64)        640       \n",
            "                                                                 \n",
            " max_pooling2d (MaxPooling2  (None, 13, 13, 64)        0         \n",
            " D)                                                              \n",
            "                                                                 \n",
            " flatten (Flatten)           (None, 10816)             0         \n",
            "                                                                 \n",
            " dense (Dense)               (None, 128)               1384576   \n",
            "                                                                 \n",
            " dense_1 (Dense)             (None, 10)                1290      \n",
            "                                                                 \n",
            "=================================================================\n",
            "Total params: 1386506 (5.29 MB)\n",
            "Trainable params: 1386506 (5.29 MB)\n",
            "Non-trainable params: 0 (0.00 Byte)\n",
            "_________________________________________________________________\n"
          ]
        }
      ]
    },
    {
      "cell_type": "code",
      "source": [
        "test_loss, test_acc=model.evaluate(x_test,y_test)\n",
        "print('Test Accuracy: ', test_acc)"
      ],
      "metadata": {
        "colab": {
          "base_uri": "https://localhost:8080/"
        },
        "id": "TiMX83lJc3BP",
        "outputId": "6a5d283b-ee07-44bd-aaac-b9da2705071c"
      },
      "execution_count": 17,
      "outputs": [
        {
          "output_type": "stream",
          "name": "stdout",
          "text": [
            "313/313 [==============================] - 2s 5ms/step - loss: 0.3283 - accuracy: 0.9111\n",
            "Test Accuracy:  0.9110999703407288\n"
          ]
        }
      ]
    }
  ]
}